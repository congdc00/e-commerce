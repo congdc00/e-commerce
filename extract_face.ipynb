{
 "cells": [
  {
   "cell_type": "markdown",
   "source": [
    "# I.Cài đặt thư viện"
   ],
   "metadata": {
    "collapsed": false
   }
  },
  {
   "cell_type": "code",
   "execution_count": 21,
   "metadata": {
    "collapsed": true
   },
   "outputs": [],
   "source": [
    "import torch\n",
    "import os\n",
    "import glob\n",
    "from facenet_pytorch import InceptionResnetV1,fixed_image_standardization\n",
    "from torchvision import transforms\n",
    "import numpy as np\n",
    "from PIL import Image"
   ]
  },
  {
   "cell_type": "markdown",
   "source": [
    "Chọn thiết bị để sau tính ma trận trên cái này"
   ],
   "metadata": {
    "collapsed": false
   }
  },
  {
   "cell_type": "code",
   "execution_count": 22,
   "outputs": [
    {
     "name": "stdout",
     "output_type": "stream",
     "text": [
      "cuda:0\n"
     ]
    }
   ],
   "source": [
    "device = torch.device('cuda:0' if torch.cuda.is_available() else 'cpu')\n",
    "print(device)"
   ],
   "metadata": {
    "collapsed": false,
    "pycharm": {
     "name": "#%%\n"
    }
   }
  },
  {
   "cell_type": "markdown",
   "source": [
    "# II. Chuẩn hóa\n",
    "Để tránh hiện tượng Vanishing/ Exploding Gradient\n",
    "Chuẩn hóa các giá trị về dạng [-1;1]"
   ],
   "metadata": {
    "collapsed": false
   }
  },
  {
   "cell_type": "markdown",
   "source": [
    "Hàm chuẩn hóa"
   ],
   "metadata": {
    "collapsed": false
   }
  },
  {
   "cell_type": "code",
   "execution_count": 23,
   "outputs": [],
   "source": [
    "def standardization(img_tensor_tmp):\n",
    "    normalize = (img_tensor_tmp -127.5)/128\n",
    "    return normalize"
   ],
   "metadata": {
    "collapsed": false,
    "pycharm": {
     "name": "#%%\n"
    }
   }
  },
  {
   "cell_type": "markdown",
   "source": [
    "Tính toán trên toàn bộ tập dữ liệu"
   ],
   "metadata": {
    "collapsed": false
   }
  },
  {
   "cell_type": "code",
   "execution_count": 24,
   "outputs": [],
   "source": [
    "def trans(img_tmp):\n",
    "    transform = transforms.Compose([\n",
    "        transforms.ToTensor(),\n",
    "        standardization\n",
    "    ])\n",
    "    return transform(img_tmp)"
   ],
   "metadata": {
    "collapsed": false,
    "pycharm": {
     "name": "#%%\n"
    }
   }
  },
  {
   "cell_type": "markdown",
   "source": [
    "# III. Xây dựng mô hình"
   ],
   "metadata": {
    "collapsed": false
   }
  },
  {
   "cell_type": "markdown",
   "source": [
    "Sử dụng kiến trúc mạng InceptionResnetV1 đã được preTrain\n",
    "- Đầu ra là feature vector 512 chiều"
   ],
   "metadata": {
    "collapsed": false
   }
  },
  {
   "cell_type": "markdown",
   "source": [
    "Chú thích\n",
    "- classify: Có lấy kết quả đầu ra đã được classify theo tập pretrain không (nếu không thì đầu ra sẽ là feature vector)\n",
    "- eval(): để khai báo mình đang evaluation chứ không phải trainning"
   ],
   "metadata": {
    "collapsed": false
   }
  },
  {
   "cell_type": "code",
   "execution_count": 25,
   "outputs": [
    {
     "data": {
      "text/plain": "InceptionResnetV1(\n  (conv2d_1a): BasicConv2d(\n    (conv): Conv2d(3, 32, kernel_size=(3, 3), stride=(2, 2), bias=False)\n    (bn): BatchNorm2d(32, eps=0.001, momentum=0.1, affine=True, track_running_stats=True)\n    (relu): ReLU()\n  )\n  (conv2d_2a): BasicConv2d(\n    (conv): Conv2d(32, 32, kernel_size=(3, 3), stride=(1, 1), bias=False)\n    (bn): BatchNorm2d(32, eps=0.001, momentum=0.1, affine=True, track_running_stats=True)\n    (relu): ReLU()\n  )\n  (conv2d_2b): BasicConv2d(\n    (conv): Conv2d(32, 64, kernel_size=(3, 3), stride=(1, 1), padding=(1, 1), bias=False)\n    (bn): BatchNorm2d(64, eps=0.001, momentum=0.1, affine=True, track_running_stats=True)\n    (relu): ReLU()\n  )\n  (maxpool_3a): MaxPool2d(kernel_size=3, stride=2, padding=0, dilation=1, ceil_mode=False)\n  (conv2d_3b): BasicConv2d(\n    (conv): Conv2d(64, 80, kernel_size=(1, 1), stride=(1, 1), bias=False)\n    (bn): BatchNorm2d(80, eps=0.001, momentum=0.1, affine=True, track_running_stats=True)\n    (relu): ReLU()\n  )\n  (conv2d_4a): BasicConv2d(\n    (conv): Conv2d(80, 192, kernel_size=(3, 3), stride=(1, 1), bias=False)\n    (bn): BatchNorm2d(192, eps=0.001, momentum=0.1, affine=True, track_running_stats=True)\n    (relu): ReLU()\n  )\n  (conv2d_4b): BasicConv2d(\n    (conv): Conv2d(192, 256, kernel_size=(3, 3), stride=(2, 2), bias=False)\n    (bn): BatchNorm2d(256, eps=0.001, momentum=0.1, affine=True, track_running_stats=True)\n    (relu): ReLU()\n  )\n  (repeat_1): Sequential(\n    (0): Block35(\n      (branch0): BasicConv2d(\n        (conv): Conv2d(256, 32, kernel_size=(1, 1), stride=(1, 1), bias=False)\n        (bn): BatchNorm2d(32, eps=0.001, momentum=0.1, affine=True, track_running_stats=True)\n        (relu): ReLU()\n      )\n      (branch1): Sequential(\n        (0): BasicConv2d(\n          (conv): Conv2d(256, 32, kernel_size=(1, 1), stride=(1, 1), bias=False)\n          (bn): BatchNorm2d(32, eps=0.001, momentum=0.1, affine=True, track_running_stats=True)\n          (relu): ReLU()\n        )\n        (1): BasicConv2d(\n          (conv): Conv2d(32, 32, kernel_size=(3, 3), stride=(1, 1), padding=(1, 1), bias=False)\n          (bn): BatchNorm2d(32, eps=0.001, momentum=0.1, affine=True, track_running_stats=True)\n          (relu): ReLU()\n        )\n      )\n      (branch2): Sequential(\n        (0): BasicConv2d(\n          (conv): Conv2d(256, 32, kernel_size=(1, 1), stride=(1, 1), bias=False)\n          (bn): BatchNorm2d(32, eps=0.001, momentum=0.1, affine=True, track_running_stats=True)\n          (relu): ReLU()\n        )\n        (1): BasicConv2d(\n          (conv): Conv2d(32, 32, kernel_size=(3, 3), stride=(1, 1), padding=(1, 1), bias=False)\n          (bn): BatchNorm2d(32, eps=0.001, momentum=0.1, affine=True, track_running_stats=True)\n          (relu): ReLU()\n        )\n        (2): BasicConv2d(\n          (conv): Conv2d(32, 32, kernel_size=(3, 3), stride=(1, 1), padding=(1, 1), bias=False)\n          (bn): BatchNorm2d(32, eps=0.001, momentum=0.1, affine=True, track_running_stats=True)\n          (relu): ReLU()\n        )\n      )\n      (conv2d): Conv2d(96, 256, kernel_size=(1, 1), stride=(1, 1))\n      (relu): ReLU()\n    )\n    (1): Block35(\n      (branch0): BasicConv2d(\n        (conv): Conv2d(256, 32, kernel_size=(1, 1), stride=(1, 1), bias=False)\n        (bn): BatchNorm2d(32, eps=0.001, momentum=0.1, affine=True, track_running_stats=True)\n        (relu): ReLU()\n      )\n      (branch1): Sequential(\n        (0): BasicConv2d(\n          (conv): Conv2d(256, 32, kernel_size=(1, 1), stride=(1, 1), bias=False)\n          (bn): BatchNorm2d(32, eps=0.001, momentum=0.1, affine=True, track_running_stats=True)\n          (relu): ReLU()\n        )\n        (1): BasicConv2d(\n          (conv): Conv2d(32, 32, kernel_size=(3, 3), stride=(1, 1), padding=(1, 1), bias=False)\n          (bn): BatchNorm2d(32, eps=0.001, momentum=0.1, affine=True, track_running_stats=True)\n          (relu): ReLU()\n        )\n      )\n      (branch2): Sequential(\n        (0): BasicConv2d(\n          (conv): Conv2d(256, 32, kernel_size=(1, 1), stride=(1, 1), bias=False)\n          (bn): BatchNorm2d(32, eps=0.001, momentum=0.1, affine=True, track_running_stats=True)\n          (relu): ReLU()\n        )\n        (1): BasicConv2d(\n          (conv): Conv2d(32, 32, kernel_size=(3, 3), stride=(1, 1), padding=(1, 1), bias=False)\n          (bn): BatchNorm2d(32, eps=0.001, momentum=0.1, affine=True, track_running_stats=True)\n          (relu): ReLU()\n        )\n        (2): BasicConv2d(\n          (conv): Conv2d(32, 32, kernel_size=(3, 3), stride=(1, 1), padding=(1, 1), bias=False)\n          (bn): BatchNorm2d(32, eps=0.001, momentum=0.1, affine=True, track_running_stats=True)\n          (relu): ReLU()\n        )\n      )\n      (conv2d): Conv2d(96, 256, kernel_size=(1, 1), stride=(1, 1))\n      (relu): ReLU()\n    )\n    (2): Block35(\n      (branch0): BasicConv2d(\n        (conv): Conv2d(256, 32, kernel_size=(1, 1), stride=(1, 1), bias=False)\n        (bn): BatchNorm2d(32, eps=0.001, momentum=0.1, affine=True, track_running_stats=True)\n        (relu): ReLU()\n      )\n      (branch1): Sequential(\n        (0): BasicConv2d(\n          (conv): Conv2d(256, 32, kernel_size=(1, 1), stride=(1, 1), bias=False)\n          (bn): BatchNorm2d(32, eps=0.001, momentum=0.1, affine=True, track_running_stats=True)\n          (relu): ReLU()\n        )\n        (1): BasicConv2d(\n          (conv): Conv2d(32, 32, kernel_size=(3, 3), stride=(1, 1), padding=(1, 1), bias=False)\n          (bn): BatchNorm2d(32, eps=0.001, momentum=0.1, affine=True, track_running_stats=True)\n          (relu): ReLU()\n        )\n      )\n      (branch2): Sequential(\n        (0): BasicConv2d(\n          (conv): Conv2d(256, 32, kernel_size=(1, 1), stride=(1, 1), bias=False)\n          (bn): BatchNorm2d(32, eps=0.001, momentum=0.1, affine=True, track_running_stats=True)\n          (relu): ReLU()\n        )\n        (1): BasicConv2d(\n          (conv): Conv2d(32, 32, kernel_size=(3, 3), stride=(1, 1), padding=(1, 1), bias=False)\n          (bn): BatchNorm2d(32, eps=0.001, momentum=0.1, affine=True, track_running_stats=True)\n          (relu): ReLU()\n        )\n        (2): BasicConv2d(\n          (conv): Conv2d(32, 32, kernel_size=(3, 3), stride=(1, 1), padding=(1, 1), bias=False)\n          (bn): BatchNorm2d(32, eps=0.001, momentum=0.1, affine=True, track_running_stats=True)\n          (relu): ReLU()\n        )\n      )\n      (conv2d): Conv2d(96, 256, kernel_size=(1, 1), stride=(1, 1))\n      (relu): ReLU()\n    )\n    (3): Block35(\n      (branch0): BasicConv2d(\n        (conv): Conv2d(256, 32, kernel_size=(1, 1), stride=(1, 1), bias=False)\n        (bn): BatchNorm2d(32, eps=0.001, momentum=0.1, affine=True, track_running_stats=True)\n        (relu): ReLU()\n      )\n      (branch1): Sequential(\n        (0): BasicConv2d(\n          (conv): Conv2d(256, 32, kernel_size=(1, 1), stride=(1, 1), bias=False)\n          (bn): BatchNorm2d(32, eps=0.001, momentum=0.1, affine=True, track_running_stats=True)\n          (relu): ReLU()\n        )\n        (1): BasicConv2d(\n          (conv): Conv2d(32, 32, kernel_size=(3, 3), stride=(1, 1), padding=(1, 1), bias=False)\n          (bn): BatchNorm2d(32, eps=0.001, momentum=0.1, affine=True, track_running_stats=True)\n          (relu): ReLU()\n        )\n      )\n      (branch2): Sequential(\n        (0): BasicConv2d(\n          (conv): Conv2d(256, 32, kernel_size=(1, 1), stride=(1, 1), bias=False)\n          (bn): BatchNorm2d(32, eps=0.001, momentum=0.1, affine=True, track_running_stats=True)\n          (relu): ReLU()\n        )\n        (1): BasicConv2d(\n          (conv): Conv2d(32, 32, kernel_size=(3, 3), stride=(1, 1), padding=(1, 1), bias=False)\n          (bn): BatchNorm2d(32, eps=0.001, momentum=0.1, affine=True, track_running_stats=True)\n          (relu): ReLU()\n        )\n        (2): BasicConv2d(\n          (conv): Conv2d(32, 32, kernel_size=(3, 3), stride=(1, 1), padding=(1, 1), bias=False)\n          (bn): BatchNorm2d(32, eps=0.001, momentum=0.1, affine=True, track_running_stats=True)\n          (relu): ReLU()\n        )\n      )\n      (conv2d): Conv2d(96, 256, kernel_size=(1, 1), stride=(1, 1))\n      (relu): ReLU()\n    )\n    (4): Block35(\n      (branch0): BasicConv2d(\n        (conv): Conv2d(256, 32, kernel_size=(1, 1), stride=(1, 1), bias=False)\n        (bn): BatchNorm2d(32, eps=0.001, momentum=0.1, affine=True, track_running_stats=True)\n        (relu): ReLU()\n      )\n      (branch1): Sequential(\n        (0): BasicConv2d(\n          (conv): Conv2d(256, 32, kernel_size=(1, 1), stride=(1, 1), bias=False)\n          (bn): BatchNorm2d(32, eps=0.001, momentum=0.1, affine=True, track_running_stats=True)\n          (relu): ReLU()\n        )\n        (1): BasicConv2d(\n          (conv): Conv2d(32, 32, kernel_size=(3, 3), stride=(1, 1), padding=(1, 1), bias=False)\n          (bn): BatchNorm2d(32, eps=0.001, momentum=0.1, affine=True, track_running_stats=True)\n          (relu): ReLU()\n        )\n      )\n      (branch2): Sequential(\n        (0): BasicConv2d(\n          (conv): Conv2d(256, 32, kernel_size=(1, 1), stride=(1, 1), bias=False)\n          (bn): BatchNorm2d(32, eps=0.001, momentum=0.1, affine=True, track_running_stats=True)\n          (relu): ReLU()\n        )\n        (1): BasicConv2d(\n          (conv): Conv2d(32, 32, kernel_size=(3, 3), stride=(1, 1), padding=(1, 1), bias=False)\n          (bn): BatchNorm2d(32, eps=0.001, momentum=0.1, affine=True, track_running_stats=True)\n          (relu): ReLU()\n        )\n        (2): BasicConv2d(\n          (conv): Conv2d(32, 32, kernel_size=(3, 3), stride=(1, 1), padding=(1, 1), bias=False)\n          (bn): BatchNorm2d(32, eps=0.001, momentum=0.1, affine=True, track_running_stats=True)\n          (relu): ReLU()\n        )\n      )\n      (conv2d): Conv2d(96, 256, kernel_size=(1, 1), stride=(1, 1))\n      (relu): ReLU()\n    )\n  )\n  (mixed_6a): Mixed_6a(\n    (branch0): BasicConv2d(\n      (conv): Conv2d(256, 384, kernel_size=(3, 3), stride=(2, 2), bias=False)\n      (bn): BatchNorm2d(384, eps=0.001, momentum=0.1, affine=True, track_running_stats=True)\n      (relu): ReLU()\n    )\n    (branch1): Sequential(\n      (0): BasicConv2d(\n        (conv): Conv2d(256, 192, kernel_size=(1, 1), stride=(1, 1), bias=False)\n        (bn): BatchNorm2d(192, eps=0.001, momentum=0.1, affine=True, track_running_stats=True)\n        (relu): ReLU()\n      )\n      (1): BasicConv2d(\n        (conv): Conv2d(192, 192, kernel_size=(3, 3), stride=(1, 1), padding=(1, 1), bias=False)\n        (bn): BatchNorm2d(192, eps=0.001, momentum=0.1, affine=True, track_running_stats=True)\n        (relu): ReLU()\n      )\n      (2): BasicConv2d(\n        (conv): Conv2d(192, 256, kernel_size=(3, 3), stride=(2, 2), bias=False)\n        (bn): BatchNorm2d(256, eps=0.001, momentum=0.1, affine=True, track_running_stats=True)\n        (relu): ReLU()\n      )\n    )\n    (branch2): MaxPool2d(kernel_size=3, stride=2, padding=0, dilation=1, ceil_mode=False)\n  )\n  (repeat_2): Sequential(\n    (0): Block17(\n      (branch0): BasicConv2d(\n        (conv): Conv2d(896, 128, kernel_size=(1, 1), stride=(1, 1), bias=False)\n        (bn): BatchNorm2d(128, eps=0.001, momentum=0.1, affine=True, track_running_stats=True)\n        (relu): ReLU()\n      )\n      (branch1): Sequential(\n        (0): BasicConv2d(\n          (conv): Conv2d(896, 128, kernel_size=(1, 1), stride=(1, 1), bias=False)\n          (bn): BatchNorm2d(128, eps=0.001, momentum=0.1, affine=True, track_running_stats=True)\n          (relu): ReLU()\n        )\n        (1): BasicConv2d(\n          (conv): Conv2d(128, 128, kernel_size=(1, 7), stride=(1, 1), padding=(0, 3), bias=False)\n          (bn): BatchNorm2d(128, eps=0.001, momentum=0.1, affine=True, track_running_stats=True)\n          (relu): ReLU()\n        )\n        (2): BasicConv2d(\n          (conv): Conv2d(128, 128, kernel_size=(7, 1), stride=(1, 1), padding=(3, 0), bias=False)\n          (bn): BatchNorm2d(128, eps=0.001, momentum=0.1, affine=True, track_running_stats=True)\n          (relu): ReLU()\n        )\n      )\n      (conv2d): Conv2d(256, 896, kernel_size=(1, 1), stride=(1, 1))\n      (relu): ReLU()\n    )\n    (1): Block17(\n      (branch0): BasicConv2d(\n        (conv): Conv2d(896, 128, kernel_size=(1, 1), stride=(1, 1), bias=False)\n        (bn): BatchNorm2d(128, eps=0.001, momentum=0.1, affine=True, track_running_stats=True)\n        (relu): ReLU()\n      )\n      (branch1): Sequential(\n        (0): BasicConv2d(\n          (conv): Conv2d(896, 128, kernel_size=(1, 1), stride=(1, 1), bias=False)\n          (bn): BatchNorm2d(128, eps=0.001, momentum=0.1, affine=True, track_running_stats=True)\n          (relu): ReLU()\n        )\n        (1): BasicConv2d(\n          (conv): Conv2d(128, 128, kernel_size=(1, 7), stride=(1, 1), padding=(0, 3), bias=False)\n          (bn): BatchNorm2d(128, eps=0.001, momentum=0.1, affine=True, track_running_stats=True)\n          (relu): ReLU()\n        )\n        (2): BasicConv2d(\n          (conv): Conv2d(128, 128, kernel_size=(7, 1), stride=(1, 1), padding=(3, 0), bias=False)\n          (bn): BatchNorm2d(128, eps=0.001, momentum=0.1, affine=True, track_running_stats=True)\n          (relu): ReLU()\n        )\n      )\n      (conv2d): Conv2d(256, 896, kernel_size=(1, 1), stride=(1, 1))\n      (relu): ReLU()\n    )\n    (2): Block17(\n      (branch0): BasicConv2d(\n        (conv): Conv2d(896, 128, kernel_size=(1, 1), stride=(1, 1), bias=False)\n        (bn): BatchNorm2d(128, eps=0.001, momentum=0.1, affine=True, track_running_stats=True)\n        (relu): ReLU()\n      )\n      (branch1): Sequential(\n        (0): BasicConv2d(\n          (conv): Conv2d(896, 128, kernel_size=(1, 1), stride=(1, 1), bias=False)\n          (bn): BatchNorm2d(128, eps=0.001, momentum=0.1, affine=True, track_running_stats=True)\n          (relu): ReLU()\n        )\n        (1): BasicConv2d(\n          (conv): Conv2d(128, 128, kernel_size=(1, 7), stride=(1, 1), padding=(0, 3), bias=False)\n          (bn): BatchNorm2d(128, eps=0.001, momentum=0.1, affine=True, track_running_stats=True)\n          (relu): ReLU()\n        )\n        (2): BasicConv2d(\n          (conv): Conv2d(128, 128, kernel_size=(7, 1), stride=(1, 1), padding=(3, 0), bias=False)\n          (bn): BatchNorm2d(128, eps=0.001, momentum=0.1, affine=True, track_running_stats=True)\n          (relu): ReLU()\n        )\n      )\n      (conv2d): Conv2d(256, 896, kernel_size=(1, 1), stride=(1, 1))\n      (relu): ReLU()\n    )\n    (3): Block17(\n      (branch0): BasicConv2d(\n        (conv): Conv2d(896, 128, kernel_size=(1, 1), stride=(1, 1), bias=False)\n        (bn): BatchNorm2d(128, eps=0.001, momentum=0.1, affine=True, track_running_stats=True)\n        (relu): ReLU()\n      )\n      (branch1): Sequential(\n        (0): BasicConv2d(\n          (conv): Conv2d(896, 128, kernel_size=(1, 1), stride=(1, 1), bias=False)\n          (bn): BatchNorm2d(128, eps=0.001, momentum=0.1, affine=True, track_running_stats=True)\n          (relu): ReLU()\n        )\n        (1): BasicConv2d(\n          (conv): Conv2d(128, 128, kernel_size=(1, 7), stride=(1, 1), padding=(0, 3), bias=False)\n          (bn): BatchNorm2d(128, eps=0.001, momentum=0.1, affine=True, track_running_stats=True)\n          (relu): ReLU()\n        )\n        (2): BasicConv2d(\n          (conv): Conv2d(128, 128, kernel_size=(7, 1), stride=(1, 1), padding=(3, 0), bias=False)\n          (bn): BatchNorm2d(128, eps=0.001, momentum=0.1, affine=True, track_running_stats=True)\n          (relu): ReLU()\n        )\n      )\n      (conv2d): Conv2d(256, 896, kernel_size=(1, 1), stride=(1, 1))\n      (relu): ReLU()\n    )\n    (4): Block17(\n      (branch0): BasicConv2d(\n        (conv): Conv2d(896, 128, kernel_size=(1, 1), stride=(1, 1), bias=False)\n        (bn): BatchNorm2d(128, eps=0.001, momentum=0.1, affine=True, track_running_stats=True)\n        (relu): ReLU()\n      )\n      (branch1): Sequential(\n        (0): BasicConv2d(\n          (conv): Conv2d(896, 128, kernel_size=(1, 1), stride=(1, 1), bias=False)\n          (bn): BatchNorm2d(128, eps=0.001, momentum=0.1, affine=True, track_running_stats=True)\n          (relu): ReLU()\n        )\n        (1): BasicConv2d(\n          (conv): Conv2d(128, 128, kernel_size=(1, 7), stride=(1, 1), padding=(0, 3), bias=False)\n          (bn): BatchNorm2d(128, eps=0.001, momentum=0.1, affine=True, track_running_stats=True)\n          (relu): ReLU()\n        )\n        (2): BasicConv2d(\n          (conv): Conv2d(128, 128, kernel_size=(7, 1), stride=(1, 1), padding=(3, 0), bias=False)\n          (bn): BatchNorm2d(128, eps=0.001, momentum=0.1, affine=True, track_running_stats=True)\n          (relu): ReLU()\n        )\n      )\n      (conv2d): Conv2d(256, 896, kernel_size=(1, 1), stride=(1, 1))\n      (relu): ReLU()\n    )\n    (5): Block17(\n      (branch0): BasicConv2d(\n        (conv): Conv2d(896, 128, kernel_size=(1, 1), stride=(1, 1), bias=False)\n        (bn): BatchNorm2d(128, eps=0.001, momentum=0.1, affine=True, track_running_stats=True)\n        (relu): ReLU()\n      )\n      (branch1): Sequential(\n        (0): BasicConv2d(\n          (conv): Conv2d(896, 128, kernel_size=(1, 1), stride=(1, 1), bias=False)\n          (bn): BatchNorm2d(128, eps=0.001, momentum=0.1, affine=True, track_running_stats=True)\n          (relu): ReLU()\n        )\n        (1): BasicConv2d(\n          (conv): Conv2d(128, 128, kernel_size=(1, 7), stride=(1, 1), padding=(0, 3), bias=False)\n          (bn): BatchNorm2d(128, eps=0.001, momentum=0.1, affine=True, track_running_stats=True)\n          (relu): ReLU()\n        )\n        (2): BasicConv2d(\n          (conv): Conv2d(128, 128, kernel_size=(7, 1), stride=(1, 1), padding=(3, 0), bias=False)\n          (bn): BatchNorm2d(128, eps=0.001, momentum=0.1, affine=True, track_running_stats=True)\n          (relu): ReLU()\n        )\n      )\n      (conv2d): Conv2d(256, 896, kernel_size=(1, 1), stride=(1, 1))\n      (relu): ReLU()\n    )\n    (6): Block17(\n      (branch0): BasicConv2d(\n        (conv): Conv2d(896, 128, kernel_size=(1, 1), stride=(1, 1), bias=False)\n        (bn): BatchNorm2d(128, eps=0.001, momentum=0.1, affine=True, track_running_stats=True)\n        (relu): ReLU()\n      )\n      (branch1): Sequential(\n        (0): BasicConv2d(\n          (conv): Conv2d(896, 128, kernel_size=(1, 1), stride=(1, 1), bias=False)\n          (bn): BatchNorm2d(128, eps=0.001, momentum=0.1, affine=True, track_running_stats=True)\n          (relu): ReLU()\n        )\n        (1): BasicConv2d(\n          (conv): Conv2d(128, 128, kernel_size=(1, 7), stride=(1, 1), padding=(0, 3), bias=False)\n          (bn): BatchNorm2d(128, eps=0.001, momentum=0.1, affine=True, track_running_stats=True)\n          (relu): ReLU()\n        )\n        (2): BasicConv2d(\n          (conv): Conv2d(128, 128, kernel_size=(7, 1), stride=(1, 1), padding=(3, 0), bias=False)\n          (bn): BatchNorm2d(128, eps=0.001, momentum=0.1, affine=True, track_running_stats=True)\n          (relu): ReLU()\n        )\n      )\n      (conv2d): Conv2d(256, 896, kernel_size=(1, 1), stride=(1, 1))\n      (relu): ReLU()\n    )\n    (7): Block17(\n      (branch0): BasicConv2d(\n        (conv): Conv2d(896, 128, kernel_size=(1, 1), stride=(1, 1), bias=False)\n        (bn): BatchNorm2d(128, eps=0.001, momentum=0.1, affine=True, track_running_stats=True)\n        (relu): ReLU()\n      )\n      (branch1): Sequential(\n        (0): BasicConv2d(\n          (conv): Conv2d(896, 128, kernel_size=(1, 1), stride=(1, 1), bias=False)\n          (bn): BatchNorm2d(128, eps=0.001, momentum=0.1, affine=True, track_running_stats=True)\n          (relu): ReLU()\n        )\n        (1): BasicConv2d(\n          (conv): Conv2d(128, 128, kernel_size=(1, 7), stride=(1, 1), padding=(0, 3), bias=False)\n          (bn): BatchNorm2d(128, eps=0.001, momentum=0.1, affine=True, track_running_stats=True)\n          (relu): ReLU()\n        )\n        (2): BasicConv2d(\n          (conv): Conv2d(128, 128, kernel_size=(7, 1), stride=(1, 1), padding=(3, 0), bias=False)\n          (bn): BatchNorm2d(128, eps=0.001, momentum=0.1, affine=True, track_running_stats=True)\n          (relu): ReLU()\n        )\n      )\n      (conv2d): Conv2d(256, 896, kernel_size=(1, 1), stride=(1, 1))\n      (relu): ReLU()\n    )\n    (8): Block17(\n      (branch0): BasicConv2d(\n        (conv): Conv2d(896, 128, kernel_size=(1, 1), stride=(1, 1), bias=False)\n        (bn): BatchNorm2d(128, eps=0.001, momentum=0.1, affine=True, track_running_stats=True)\n        (relu): ReLU()\n      )\n      (branch1): Sequential(\n        (0): BasicConv2d(\n          (conv): Conv2d(896, 128, kernel_size=(1, 1), stride=(1, 1), bias=False)\n          (bn): BatchNorm2d(128, eps=0.001, momentum=0.1, affine=True, track_running_stats=True)\n          (relu): ReLU()\n        )\n        (1): BasicConv2d(\n          (conv): Conv2d(128, 128, kernel_size=(1, 7), stride=(1, 1), padding=(0, 3), bias=False)\n          (bn): BatchNorm2d(128, eps=0.001, momentum=0.1, affine=True, track_running_stats=True)\n          (relu): ReLU()\n        )\n        (2): BasicConv2d(\n          (conv): Conv2d(128, 128, kernel_size=(7, 1), stride=(1, 1), padding=(3, 0), bias=False)\n          (bn): BatchNorm2d(128, eps=0.001, momentum=0.1, affine=True, track_running_stats=True)\n          (relu): ReLU()\n        )\n      )\n      (conv2d): Conv2d(256, 896, kernel_size=(1, 1), stride=(1, 1))\n      (relu): ReLU()\n    )\n    (9): Block17(\n      (branch0): BasicConv2d(\n        (conv): Conv2d(896, 128, kernel_size=(1, 1), stride=(1, 1), bias=False)\n        (bn): BatchNorm2d(128, eps=0.001, momentum=0.1, affine=True, track_running_stats=True)\n        (relu): ReLU()\n      )\n      (branch1): Sequential(\n        (0): BasicConv2d(\n          (conv): Conv2d(896, 128, kernel_size=(1, 1), stride=(1, 1), bias=False)\n          (bn): BatchNorm2d(128, eps=0.001, momentum=0.1, affine=True, track_running_stats=True)\n          (relu): ReLU()\n        )\n        (1): BasicConv2d(\n          (conv): Conv2d(128, 128, kernel_size=(1, 7), stride=(1, 1), padding=(0, 3), bias=False)\n          (bn): BatchNorm2d(128, eps=0.001, momentum=0.1, affine=True, track_running_stats=True)\n          (relu): ReLU()\n        )\n        (2): BasicConv2d(\n          (conv): Conv2d(128, 128, kernel_size=(7, 1), stride=(1, 1), padding=(3, 0), bias=False)\n          (bn): BatchNorm2d(128, eps=0.001, momentum=0.1, affine=True, track_running_stats=True)\n          (relu): ReLU()\n        )\n      )\n      (conv2d): Conv2d(256, 896, kernel_size=(1, 1), stride=(1, 1))\n      (relu): ReLU()\n    )\n  )\n  (mixed_7a): Mixed_7a(\n    (branch0): Sequential(\n      (0): BasicConv2d(\n        (conv): Conv2d(896, 256, kernel_size=(1, 1), stride=(1, 1), bias=False)\n        (bn): BatchNorm2d(256, eps=0.001, momentum=0.1, affine=True, track_running_stats=True)\n        (relu): ReLU()\n      )\n      (1): BasicConv2d(\n        (conv): Conv2d(256, 384, kernel_size=(3, 3), stride=(2, 2), bias=False)\n        (bn): BatchNorm2d(384, eps=0.001, momentum=0.1, affine=True, track_running_stats=True)\n        (relu): ReLU()\n      )\n    )\n    (branch1): Sequential(\n      (0): BasicConv2d(\n        (conv): Conv2d(896, 256, kernel_size=(1, 1), stride=(1, 1), bias=False)\n        (bn): BatchNorm2d(256, eps=0.001, momentum=0.1, affine=True, track_running_stats=True)\n        (relu): ReLU()\n      )\n      (1): BasicConv2d(\n        (conv): Conv2d(256, 256, kernel_size=(3, 3), stride=(2, 2), bias=False)\n        (bn): BatchNorm2d(256, eps=0.001, momentum=0.1, affine=True, track_running_stats=True)\n        (relu): ReLU()\n      )\n    )\n    (branch2): Sequential(\n      (0): BasicConv2d(\n        (conv): Conv2d(896, 256, kernel_size=(1, 1), stride=(1, 1), bias=False)\n        (bn): BatchNorm2d(256, eps=0.001, momentum=0.1, affine=True, track_running_stats=True)\n        (relu): ReLU()\n      )\n      (1): BasicConv2d(\n        (conv): Conv2d(256, 256, kernel_size=(3, 3), stride=(1, 1), padding=(1, 1), bias=False)\n        (bn): BatchNorm2d(256, eps=0.001, momentum=0.1, affine=True, track_running_stats=True)\n        (relu): ReLU()\n      )\n      (2): BasicConv2d(\n        (conv): Conv2d(256, 256, kernel_size=(3, 3), stride=(2, 2), bias=False)\n        (bn): BatchNorm2d(256, eps=0.001, momentum=0.1, affine=True, track_running_stats=True)\n        (relu): ReLU()\n      )\n    )\n    (branch3): MaxPool2d(kernel_size=3, stride=2, padding=0, dilation=1, ceil_mode=False)\n  )\n  (repeat_3): Sequential(\n    (0): Block8(\n      (branch0): BasicConv2d(\n        (conv): Conv2d(1792, 192, kernel_size=(1, 1), stride=(1, 1), bias=False)\n        (bn): BatchNorm2d(192, eps=0.001, momentum=0.1, affine=True, track_running_stats=True)\n        (relu): ReLU()\n      )\n      (branch1): Sequential(\n        (0): BasicConv2d(\n          (conv): Conv2d(1792, 192, kernel_size=(1, 1), stride=(1, 1), bias=False)\n          (bn): BatchNorm2d(192, eps=0.001, momentum=0.1, affine=True, track_running_stats=True)\n          (relu): ReLU()\n        )\n        (1): BasicConv2d(\n          (conv): Conv2d(192, 192, kernel_size=(1, 3), stride=(1, 1), padding=(0, 1), bias=False)\n          (bn): BatchNorm2d(192, eps=0.001, momentum=0.1, affine=True, track_running_stats=True)\n          (relu): ReLU()\n        )\n        (2): BasicConv2d(\n          (conv): Conv2d(192, 192, kernel_size=(3, 1), stride=(1, 1), padding=(1, 0), bias=False)\n          (bn): BatchNorm2d(192, eps=0.001, momentum=0.1, affine=True, track_running_stats=True)\n          (relu): ReLU()\n        )\n      )\n      (conv2d): Conv2d(384, 1792, kernel_size=(1, 1), stride=(1, 1))\n      (relu): ReLU()\n    )\n    (1): Block8(\n      (branch0): BasicConv2d(\n        (conv): Conv2d(1792, 192, kernel_size=(1, 1), stride=(1, 1), bias=False)\n        (bn): BatchNorm2d(192, eps=0.001, momentum=0.1, affine=True, track_running_stats=True)\n        (relu): ReLU()\n      )\n      (branch1): Sequential(\n        (0): BasicConv2d(\n          (conv): Conv2d(1792, 192, kernel_size=(1, 1), stride=(1, 1), bias=False)\n          (bn): BatchNorm2d(192, eps=0.001, momentum=0.1, affine=True, track_running_stats=True)\n          (relu): ReLU()\n        )\n        (1): BasicConv2d(\n          (conv): Conv2d(192, 192, kernel_size=(1, 3), stride=(1, 1), padding=(0, 1), bias=False)\n          (bn): BatchNorm2d(192, eps=0.001, momentum=0.1, affine=True, track_running_stats=True)\n          (relu): ReLU()\n        )\n        (2): BasicConv2d(\n          (conv): Conv2d(192, 192, kernel_size=(3, 1), stride=(1, 1), padding=(1, 0), bias=False)\n          (bn): BatchNorm2d(192, eps=0.001, momentum=0.1, affine=True, track_running_stats=True)\n          (relu): ReLU()\n        )\n      )\n      (conv2d): Conv2d(384, 1792, kernel_size=(1, 1), stride=(1, 1))\n      (relu): ReLU()\n    )\n    (2): Block8(\n      (branch0): BasicConv2d(\n        (conv): Conv2d(1792, 192, kernel_size=(1, 1), stride=(1, 1), bias=False)\n        (bn): BatchNorm2d(192, eps=0.001, momentum=0.1, affine=True, track_running_stats=True)\n        (relu): ReLU()\n      )\n      (branch1): Sequential(\n        (0): BasicConv2d(\n          (conv): Conv2d(1792, 192, kernel_size=(1, 1), stride=(1, 1), bias=False)\n          (bn): BatchNorm2d(192, eps=0.001, momentum=0.1, affine=True, track_running_stats=True)\n          (relu): ReLU()\n        )\n        (1): BasicConv2d(\n          (conv): Conv2d(192, 192, kernel_size=(1, 3), stride=(1, 1), padding=(0, 1), bias=False)\n          (bn): BatchNorm2d(192, eps=0.001, momentum=0.1, affine=True, track_running_stats=True)\n          (relu): ReLU()\n        )\n        (2): BasicConv2d(\n          (conv): Conv2d(192, 192, kernel_size=(3, 1), stride=(1, 1), padding=(1, 0), bias=False)\n          (bn): BatchNorm2d(192, eps=0.001, momentum=0.1, affine=True, track_running_stats=True)\n          (relu): ReLU()\n        )\n      )\n      (conv2d): Conv2d(384, 1792, kernel_size=(1, 1), stride=(1, 1))\n      (relu): ReLU()\n    )\n    (3): Block8(\n      (branch0): BasicConv2d(\n        (conv): Conv2d(1792, 192, kernel_size=(1, 1), stride=(1, 1), bias=False)\n        (bn): BatchNorm2d(192, eps=0.001, momentum=0.1, affine=True, track_running_stats=True)\n        (relu): ReLU()\n      )\n      (branch1): Sequential(\n        (0): BasicConv2d(\n          (conv): Conv2d(1792, 192, kernel_size=(1, 1), stride=(1, 1), bias=False)\n          (bn): BatchNorm2d(192, eps=0.001, momentum=0.1, affine=True, track_running_stats=True)\n          (relu): ReLU()\n        )\n        (1): BasicConv2d(\n          (conv): Conv2d(192, 192, kernel_size=(1, 3), stride=(1, 1), padding=(0, 1), bias=False)\n          (bn): BatchNorm2d(192, eps=0.001, momentum=0.1, affine=True, track_running_stats=True)\n          (relu): ReLU()\n        )\n        (2): BasicConv2d(\n          (conv): Conv2d(192, 192, kernel_size=(3, 1), stride=(1, 1), padding=(1, 0), bias=False)\n          (bn): BatchNorm2d(192, eps=0.001, momentum=0.1, affine=True, track_running_stats=True)\n          (relu): ReLU()\n        )\n      )\n      (conv2d): Conv2d(384, 1792, kernel_size=(1, 1), stride=(1, 1))\n      (relu): ReLU()\n    )\n    (4): Block8(\n      (branch0): BasicConv2d(\n        (conv): Conv2d(1792, 192, kernel_size=(1, 1), stride=(1, 1), bias=False)\n        (bn): BatchNorm2d(192, eps=0.001, momentum=0.1, affine=True, track_running_stats=True)\n        (relu): ReLU()\n      )\n      (branch1): Sequential(\n        (0): BasicConv2d(\n          (conv): Conv2d(1792, 192, kernel_size=(1, 1), stride=(1, 1), bias=False)\n          (bn): BatchNorm2d(192, eps=0.001, momentum=0.1, affine=True, track_running_stats=True)\n          (relu): ReLU()\n        )\n        (1): BasicConv2d(\n          (conv): Conv2d(192, 192, kernel_size=(1, 3), stride=(1, 1), padding=(0, 1), bias=False)\n          (bn): BatchNorm2d(192, eps=0.001, momentum=0.1, affine=True, track_running_stats=True)\n          (relu): ReLU()\n        )\n        (2): BasicConv2d(\n          (conv): Conv2d(192, 192, kernel_size=(3, 1), stride=(1, 1), padding=(1, 0), bias=False)\n          (bn): BatchNorm2d(192, eps=0.001, momentum=0.1, affine=True, track_running_stats=True)\n          (relu): ReLU()\n        )\n      )\n      (conv2d): Conv2d(384, 1792, kernel_size=(1, 1), stride=(1, 1))\n      (relu): ReLU()\n    )\n  )\n  (block8): Block8(\n    (branch0): BasicConv2d(\n      (conv): Conv2d(1792, 192, kernel_size=(1, 1), stride=(1, 1), bias=False)\n      (bn): BatchNorm2d(192, eps=0.001, momentum=0.1, affine=True, track_running_stats=True)\n      (relu): ReLU()\n    )\n    (branch1): Sequential(\n      (0): BasicConv2d(\n        (conv): Conv2d(1792, 192, kernel_size=(1, 1), stride=(1, 1), bias=False)\n        (bn): BatchNorm2d(192, eps=0.001, momentum=0.1, affine=True, track_running_stats=True)\n        (relu): ReLU()\n      )\n      (1): BasicConv2d(\n        (conv): Conv2d(192, 192, kernel_size=(1, 3), stride=(1, 1), padding=(0, 1), bias=False)\n        (bn): BatchNorm2d(192, eps=0.001, momentum=0.1, affine=True, track_running_stats=True)\n        (relu): ReLU()\n      )\n      (2): BasicConv2d(\n        (conv): Conv2d(192, 192, kernel_size=(3, 1), stride=(1, 1), padding=(1, 0), bias=False)\n        (bn): BatchNorm2d(192, eps=0.001, momentum=0.1, affine=True, track_running_stats=True)\n        (relu): ReLU()\n      )\n    )\n    (conv2d): Conv2d(384, 1792, kernel_size=(1, 1), stride=(1, 1))\n  )\n  (avgpool_1a): AdaptiveAvgPool2d(output_size=1)\n  (dropout): Dropout(p=0.6, inplace=False)\n  (last_linear): Linear(in_features=1792, out_features=512, bias=False)\n  (last_bn): BatchNorm1d(512, eps=0.001, momentum=0.1, affine=True, track_running_stats=True)\n  (logits): Linear(in_features=512, out_features=10575, bias=True)\n)"
     },
     "execution_count": 25,
     "metadata": {},
     "output_type": "execute_result"
    }
   ],
   "source": [
    "model = InceptionResnetV1(\n",
    "    classify=False,\n",
    "    pretrained=\"casia-webface\"\n",
    ").to(device)\n",
    "\n",
    "model.eval()"
   ],
   "metadata": {
    "collapsed": false,
    "pycharm": {
     "name": "#%%\n"
    }
   }
  },
  {
   "cell_type": "markdown",
   "source": [
    "# IV. Tạo lập embed từ ảnh"
   ],
   "metadata": {
    "collapsed": false
   }
  },
  {
   "cell_type": "markdown",
   "source": [
    "Tạo địa đường dẫn thư mục"
   ],
   "metadata": {
    "collapsed": false
   }
  },
  {
   "cell_type": "code",
   "execution_count": 29,
   "outputs": [],
   "source": [
    "train_path = './data/data_set/train'\n",
    "data_path = './data/annotations'"
   ],
   "metadata": {
    "collapsed": false,
    "pycharm": {
     "name": "#%%\n"
    }
   }
  },
  {
   "cell_type": "code",
   "execution_count": 30,
   "outputs": [],
   "source": [
    "embeddings = []\n",
    "names = []"
   ],
   "metadata": {
    "collapsed": false,
    "pycharm": {
     "name": "#%%\n"
    }
   }
  },
  {
   "cell_type": "code",
   "execution_count": 31,
   "outputs": [
    {
     "ename": "FileNotFoundError",
     "evalue": "[WinError 3] The system cannot find the path specified: './data/data_set/train'",
     "output_type": "error",
     "traceback": [
      "\u001B[1;31m---------------------------------------------------------------------------\u001B[0m",
      "\u001B[1;31mFileNotFoundError\u001B[0m                         Traceback (most recent call last)",
      "\u001B[1;32mC:\\Users\\DINHCH~1\\AppData\\Local\\Temp/ipykernel_19040/3923442224.py\u001B[0m in \u001B[0;36m<module>\u001B[1;34m\u001B[0m\n\u001B[1;32m----> 1\u001B[1;33m \u001B[1;32mfor\u001B[0m \u001B[0musr\u001B[0m \u001B[1;32min\u001B[0m \u001B[0mos\u001B[0m\u001B[1;33m.\u001B[0m\u001B[0mlistdir\u001B[0m\u001B[1;33m(\u001B[0m\u001B[0mtrain_path\u001B[0m\u001B[1;33m)\u001B[0m\u001B[1;33m:\u001B[0m \u001B[1;31m# duyệt qua tất cả các file trong image_train\u001B[0m\u001B[1;33m\u001B[0m\u001B[1;33m\u001B[0m\u001B[0m\n\u001B[0m\u001B[0;32m      2\u001B[0m     \u001B[0membeds\u001B[0m \u001B[1;33m=\u001B[0m \u001B[1;33m[\u001B[0m\u001B[1;33m]\u001B[0m\u001B[1;33m\u001B[0m\u001B[1;33m\u001B[0m\u001B[0m\n\u001B[0;32m      3\u001B[0m     \u001B[1;32mfor\u001B[0m \u001B[0mfile\u001B[0m \u001B[1;32min\u001B[0m \u001B[0mglob\u001B[0m\u001B[1;33m.\u001B[0m\u001B[0mglob\u001B[0m\u001B[1;33m(\u001B[0m\u001B[0mos\u001B[0m\u001B[1;33m.\u001B[0m\u001B[0mpath\u001B[0m\u001B[1;33m.\u001B[0m\u001B[0mjoin\u001B[0m\u001B[1;33m(\u001B[0m\u001B[0mtrain_path\u001B[0m\u001B[1;33m,\u001B[0m \u001B[0musr\u001B[0m\u001B[1;33m)\u001B[0m \u001B[1;33m+\u001B[0m \u001B[1;34m'/*.jpg'\u001B[0m\u001B[1;33m)\u001B[0m\u001B[1;33m:\u001B[0m \u001B[1;31m# mở tất cả các file ảnh\u001B[0m\u001B[1;33m\u001B[0m\u001B[1;33m\u001B[0m\u001B[0m\n\u001B[0;32m      4\u001B[0m         \u001B[1;32mtry\u001B[0m\u001B[1;33m:\u001B[0m\u001B[1;33m\u001B[0m\u001B[1;33m\u001B[0m\u001B[0m\n\u001B[0;32m      5\u001B[0m             \u001B[0mimg\u001B[0m \u001B[1;33m=\u001B[0m \u001B[0mImage\u001B[0m\u001B[1;33m.\u001B[0m\u001B[0mopen\u001B[0m\u001B[1;33m(\u001B[0m\u001B[0mfile\u001B[0m\u001B[1;33m)\u001B[0m\u001B[1;33m\u001B[0m\u001B[1;33m\u001B[0m\u001B[0m\n",
      "\u001B[1;31mFileNotFoundError\u001B[0m: [WinError 3] The system cannot find the path specified: './data/data_set/train'"
     ]
    }
   ],
   "source": [
    "for usr in os.listdir(train_path): # duyệt qua tất cả các file trong image_train\n",
    "    embeds = []\n",
    "    for file in glob.glob(os.path.join(train_path, usr) + '/*.jpg'): # mở tất cả các file ảnh\n",
    "        try:\n",
    "            img = Image.open(file)\n",
    "        except:\n",
    "            continue\n",
    "        with torch.no_grad(): #Không đạo hàm ngược lại (cập nhập tham số) mà chỉ tính theo chiều xuôi\n",
    "            embeds.append(model(trans(img).to(device).unsqueeze(0))) #thêm vào 1 chiều giả mạo kích thước [1,512]\n",
    "    if len(embeds) == 0:\n",
    "        continue\n",
    "    else:\n",
    "        embedding = torch.cat(embeds).mean(0, keepdim = True) # tinh gia tri trung binh cua 50 anh, giu nguyen chieu [1,512]\n",
    "        embeddings.append(embedding) # them vao danh sach embeddings\n",
    "        names.append(usr)"
   ],
   "metadata": {
    "collapsed": false,
    "pycharm": {
     "name": "#%%\n"
    }
   }
  },
  {
   "cell_type": "code",
   "execution_count": null,
   "outputs": [],
   "source": [
    "embeddings = torch.cat(embeddings) # [n,512]\n",
    "torch.save(embeddings, data_path + \"/facelist.pth\")\n",
    "names = np.array(names)\n",
    "np.save(data_path + \"/username\", names)"
   ],
   "metadata": {
    "collapsed": false,
    "pycharm": {
     "name": "#%%\n"
    }
   }
  },
  {
   "cell_type": "code",
   "execution_count": null,
   "outputs": [],
   "source": [
    "print('cập nhập thành công ! Có {} người trong FaceLists'.format(names.shape[0]))"
   ],
   "metadata": {
    "collapsed": false,
    "pycharm": {
     "name": "#%%\n"
    }
   }
  }
 ],
 "metadata": {
  "kernelspec": {
   "display_name": "Python 3",
   "language": "python",
   "name": "python3"
  },
  "language_info": {
   "codemirror_mode": {
    "name": "ipython",
    "version": 2
   },
   "file_extension": ".py",
   "mimetype": "text/x-python",
   "name": "python",
   "nbconvert_exporter": "python",
   "pygments_lexer": "ipython2",
   "version": "2.7.6"
  }
 },
 "nbformat": 4,
 "nbformat_minor": 0
}