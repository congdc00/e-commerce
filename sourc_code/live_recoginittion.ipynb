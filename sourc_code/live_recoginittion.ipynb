{
 "cells": [
  {
   "cell_type": "markdown",
   "source": [
    "# I. Thư viện"
   ],
   "metadata": {
    "collapsed": false
   }
  },
  {
   "cell_type": "code",
   "execution_count": 1,
   "metadata": {
    "collapsed": true
   },
   "outputs": [],
   "source": [
    "from all_lib import *"
   ]
  },
  {
   "cell_type": "markdown",
   "source": [
    "# II. Chuẩn bị"
   ],
   "metadata": {
    "collapsed": false
   }
  },
  {
   "cell_type": "markdown",
   "source": [
    "Gọi GPU"
   ],
   "metadata": {
    "collapsed": false
   }
  },
  {
   "cell_type": "code",
   "execution_count": 2,
   "outputs": [
    {
     "name": "stdout",
     "output_type": "stream",
     "text": [
      "cuda:0\n"
     ]
    }
   ],
   "source": [
    "device = torch.device('cuda:0' if torch.cuda.is_available() else 'cpu')\n",
    "print(device)"
   ],
   "metadata": {
    "collapsed": false,
    "pycharm": {
     "name": "#%%\n"
    }
   }
  },
  {
   "cell_type": "markdown",
   "source": [],
   "metadata": {
    "collapsed": false
   }
  },
  {
   "cell_type": "code",
   "execution_count": 3,
   "outputs": [],
   "source": [
    "data_path = '../data/annotations'"
   ],
   "metadata": {
    "collapsed": false,
    "pycharm": {
     "name": "#%%\n"
    }
   }
  },
  {
   "cell_type": "markdown",
   "source": [
    "Tải dữ liệu"
   ],
   "metadata": {
    "collapsed": false
   }
  },
  {
   "cell_type": "code",
   "execution_count": 4,
   "outputs": [],
   "source": [
    "embeddings= torch.load(data_path + '/facelist.pth')\n",
    "names = np.load(data_path + '/username.npy')"
   ],
   "metadata": {
    "collapsed": false,
    "pycharm": {
     "name": "#%%\n"
    }
   }
  },
  {
   "cell_type": "markdown",
   "source": [
    "Kích thước đầu vào lấy từ webcam"
   ],
   "metadata": {
    "collapsed": false
   }
  },
  {
   "cell_type": "code",
   "execution_count": 5,
   "outputs": [],
   "source": [
    "frame_size =  (640, 480)"
   ],
   "metadata": {
    "collapsed": false,
    "pycharm": {
     "name": "#%%\n"
    }
   }
  },
  {
   "cell_type": "markdown",
   "source": [],
   "metadata": {
    "collapsed": false
   }
  },
  {
   "cell_type": "markdown",
   "source": [
    "# III Chuẩn hóa"
   ],
   "metadata": {
    "collapsed": false
   }
  },
  {
   "cell_type": "markdown",
   "source": [
    "Model MTCNN để tách khuôn mặt"
   ],
   "metadata": {
    "collapsed": false
   }
  },
  {
   "cell_type": "code",
   "execution_count": 6,
   "outputs": [],
   "source": [
    "mtcnn = MTCNN(thresholds= [0.7, 0.7, 0.8] ,keep_all=True, device = device)"
   ],
   "metadata": {
    "collapsed": false,
    "pycharm": {
     "name": "#%%\n"
    }
   }
  },
  {
   "cell_type": "markdown",
   "source": [
    "Các hàm chuẩn hóa"
   ],
   "metadata": {
    "collapsed": false
   }
  },
  {
   "cell_type": "code",
   "execution_count": 7,
   "outputs": [],
   "source": [
    "def standardization(img_tensor_tmp):\n",
    "    normalize = (img_tensor_tmp -127.5)/128\n",
    "    return normalize"
   ],
   "metadata": {
    "collapsed": false,
    "pycharm": {
     "name": "#%%\n"
    }
   }
  },
  {
   "cell_type": "code",
   "execution_count": 8,
   "outputs": [],
   "source": [
    "def trans(img):\n",
    "    transform = transforms.Compose([\n",
    "        transforms.ToTensor(),\n",
    "        fixed_image_standardization\n",
    "    ])\n",
    "    return transform(img)"
   ],
   "metadata": {
    "collapsed": false,
    "pycharm": {
     "name": "#%%\n"
    }
   }
  },
  {
   "cell_type": "markdown",
   "source": [
    "# IV. Main"
   ],
   "metadata": {
    "collapsed": false
   }
  },
  {
   "cell_type": "markdown",
   "source": [
    "Khởi tạo model InceptionResnetV1"
   ],
   "metadata": {
    "collapsed": false
   }
  },
  {
   "cell_type": "code",
   "execution_count": 9,
   "outputs": [
    {
     "data": {
      "text/plain": "InceptionResnetV1(\n  (conv2d_1a): BasicConv2d(\n    (conv): Conv2d(3, 32, kernel_size=(3, 3), stride=(2, 2), bias=False)\n    (bn): BatchNorm2d(32, eps=0.001, momentum=0.1, affine=True, track_running_stats=True)\n    (relu): ReLU()\n  )\n  (conv2d_2a): BasicConv2d(\n    (conv): Conv2d(32, 32, kernel_size=(3, 3), stride=(1, 1), bias=False)\n    (bn): BatchNorm2d(32, eps=0.001, momentum=0.1, affine=True, track_running_stats=True)\n    (relu): ReLU()\n  )\n  (conv2d_2b): BasicConv2d(\n    (conv): Conv2d(32, 64, kernel_size=(3, 3), stride=(1, 1), padding=(1, 1), bias=False)\n    (bn): BatchNorm2d(64, eps=0.001, momentum=0.1, affine=True, track_running_stats=True)\n    (relu): ReLU()\n  )\n  (maxpool_3a): MaxPool2d(kernel_size=3, stride=2, padding=0, dilation=1, ceil_mode=False)\n  (conv2d_3b): BasicConv2d(\n    (conv): Conv2d(64, 80, kernel_size=(1, 1), stride=(1, 1), bias=False)\n    (bn): BatchNorm2d(80, eps=0.001, momentum=0.1, affine=True, track_running_stats=True)\n    (relu): ReLU()\n  )\n  (conv2d_4a): BasicConv2d(\n    (conv): Conv2d(80, 192, kernel_size=(3, 3), stride=(1, 1), bias=False)\n    (bn): BatchNorm2d(192, eps=0.001, momentum=0.1, affine=True, track_running_stats=True)\n    (relu): ReLU()\n  )\n  (conv2d_4b): BasicConv2d(\n    (conv): Conv2d(192, 256, kernel_size=(3, 3), stride=(2, 2), bias=False)\n    (bn): BatchNorm2d(256, eps=0.001, momentum=0.1, affine=True, track_running_stats=True)\n    (relu): ReLU()\n  )\n  (repeat_1): Sequential(\n    (0): Block35(\n      (branch0): BasicConv2d(\n        (conv): Conv2d(256, 32, kernel_size=(1, 1), stride=(1, 1), bias=False)\n        (bn): BatchNorm2d(32, eps=0.001, momentum=0.1, affine=True, track_running_stats=True)\n        (relu): ReLU()\n      )\n      (branch1): Sequential(\n        (0): BasicConv2d(\n          (conv): Conv2d(256, 32, kernel_size=(1, 1), stride=(1, 1), bias=False)\n          (bn): BatchNorm2d(32, eps=0.001, momentum=0.1, affine=True, track_running_stats=True)\n          (relu): ReLU()\n        )\n        (1): BasicConv2d(\n          (conv): Conv2d(32, 32, kernel_size=(3, 3), stride=(1, 1), padding=(1, 1), bias=False)\n          (bn): BatchNorm2d(32, eps=0.001, momentum=0.1, affine=True, track_running_stats=True)\n          (relu): ReLU()\n        )\n      )\n      (branch2): Sequential(\n        (0): BasicConv2d(\n          (conv): Conv2d(256, 32, kernel_size=(1, 1), stride=(1, 1), bias=False)\n          (bn): BatchNorm2d(32, eps=0.001, momentum=0.1, affine=True, track_running_stats=True)\n          (relu): ReLU()\n        )\n        (1): BasicConv2d(\n          (conv): Conv2d(32, 32, kernel_size=(3, 3), stride=(1, 1), padding=(1, 1), bias=False)\n          (bn): BatchNorm2d(32, eps=0.001, momentum=0.1, affine=True, track_running_stats=True)\n          (relu): ReLU()\n        )\n        (2): BasicConv2d(\n          (conv): Conv2d(32, 32, kernel_size=(3, 3), stride=(1, 1), padding=(1, 1), bias=False)\n          (bn): BatchNorm2d(32, eps=0.001, momentum=0.1, affine=True, track_running_stats=True)\n          (relu): ReLU()\n        )\n      )\n      (conv2d): Conv2d(96, 256, kernel_size=(1, 1), stride=(1, 1))\n      (relu): ReLU()\n    )\n    (1): Block35(\n      (branch0): BasicConv2d(\n        (conv): Conv2d(256, 32, kernel_size=(1, 1), stride=(1, 1), bias=False)\n        (bn): BatchNorm2d(32, eps=0.001, momentum=0.1, affine=True, track_running_stats=True)\n        (relu): ReLU()\n      )\n      (branch1): Sequential(\n        (0): BasicConv2d(\n          (conv): Conv2d(256, 32, kernel_size=(1, 1), stride=(1, 1), bias=False)\n          (bn): BatchNorm2d(32, eps=0.001, momentum=0.1, affine=True, track_running_stats=True)\n          (relu): ReLU()\n        )\n        (1): BasicConv2d(\n          (conv): Conv2d(32, 32, kernel_size=(3, 3), stride=(1, 1), padding=(1, 1), bias=False)\n          (bn): BatchNorm2d(32, eps=0.001, momentum=0.1, affine=True, track_running_stats=True)\n          (relu): ReLU()\n        )\n      )\n      (branch2): Sequential(\n        (0): BasicConv2d(\n          (conv): Conv2d(256, 32, kernel_size=(1, 1), stride=(1, 1), bias=False)\n          (bn): BatchNorm2d(32, eps=0.001, momentum=0.1, affine=True, track_running_stats=True)\n          (relu): ReLU()\n        )\n        (1): BasicConv2d(\n          (conv): Conv2d(32, 32, kernel_size=(3, 3), stride=(1, 1), padding=(1, 1), bias=False)\n          (bn): BatchNorm2d(32, eps=0.001, momentum=0.1, affine=True, track_running_stats=True)\n          (relu): ReLU()\n        )\n        (2): BasicConv2d(\n          (conv): Conv2d(32, 32, kernel_size=(3, 3), stride=(1, 1), padding=(1, 1), bias=False)\n          (bn): BatchNorm2d(32, eps=0.001, momentum=0.1, affine=True, track_running_stats=True)\n          (relu): ReLU()\n        )\n      )\n      (conv2d): Conv2d(96, 256, kernel_size=(1, 1), stride=(1, 1))\n      (relu): ReLU()\n    )\n    (2): Block35(\n      (branch0): BasicConv2d(\n        (conv): Conv2d(256, 32, kernel_size=(1, 1), stride=(1, 1), bias=False)\n        (bn): BatchNorm2d(32, eps=0.001, momentum=0.1, affine=True, track_running_stats=True)\n        (relu): ReLU()\n      )\n      (branch1): Sequential(\n        (0): BasicConv2d(\n          (conv): Conv2d(256, 32, kernel_size=(1, 1), stride=(1, 1), bias=False)\n          (bn): BatchNorm2d(32, eps=0.001, momentum=0.1, affine=True, track_running_stats=True)\n          (relu): ReLU()\n        )\n        (1): BasicConv2d(\n          (conv): Conv2d(32, 32, kernel_size=(3, 3), stride=(1, 1), padding=(1, 1), bias=False)\n          (bn): BatchNorm2d(32, eps=0.001, momentum=0.1, affine=True, track_running_stats=True)\n          (relu): ReLU()\n        )\n      )\n      (branch2): Sequential(\n        (0): BasicConv2d(\n          (conv): Conv2d(256, 32, kernel_size=(1, 1), stride=(1, 1), bias=False)\n          (bn): BatchNorm2d(32, eps=0.001, momentum=0.1, affine=True, track_running_stats=True)\n          (relu): ReLU()\n        )\n        (1): BasicConv2d(\n          (conv): Conv2d(32, 32, kernel_size=(3, 3), stride=(1, 1), padding=(1, 1), bias=False)\n          (bn): BatchNorm2d(32, eps=0.001, momentum=0.1, affine=True, track_running_stats=True)\n          (relu): ReLU()\n        )\n        (2): BasicConv2d(\n          (conv): Conv2d(32, 32, kernel_size=(3, 3), stride=(1, 1), padding=(1, 1), bias=False)\n          (bn): BatchNorm2d(32, eps=0.001, momentum=0.1, affine=True, track_running_stats=True)\n          (relu): ReLU()\n        )\n      )\n      (conv2d): Conv2d(96, 256, kernel_size=(1, 1), stride=(1, 1))\n      (relu): ReLU()\n    )\n    (3): Block35(\n      (branch0): BasicConv2d(\n        (conv): Conv2d(256, 32, kernel_size=(1, 1), stride=(1, 1), bias=False)\n        (bn): BatchNorm2d(32, eps=0.001, momentum=0.1, affine=True, track_running_stats=True)\n        (relu): ReLU()\n      )\n      (branch1): Sequential(\n        (0): BasicConv2d(\n          (conv): Conv2d(256, 32, kernel_size=(1, 1), stride=(1, 1), bias=False)\n          (bn): BatchNorm2d(32, eps=0.001, momentum=0.1, affine=True, track_running_stats=True)\n          (relu): ReLU()\n        )\n        (1): BasicConv2d(\n          (conv): Conv2d(32, 32, kernel_size=(3, 3), stride=(1, 1), padding=(1, 1), bias=False)\n          (bn): BatchNorm2d(32, eps=0.001, momentum=0.1, affine=True, track_running_stats=True)\n          (relu): ReLU()\n        )\n      )\n      (branch2): Sequential(\n        (0): BasicConv2d(\n          (conv): Conv2d(256, 32, kernel_size=(1, 1), stride=(1, 1), bias=False)\n          (bn): BatchNorm2d(32, eps=0.001, momentum=0.1, affine=True, track_running_stats=True)\n          (relu): ReLU()\n        )\n        (1): BasicConv2d(\n          (conv): Conv2d(32, 32, kernel_size=(3, 3), stride=(1, 1), padding=(1, 1), bias=False)\n          (bn): BatchNorm2d(32, eps=0.001, momentum=0.1, affine=True, track_running_stats=True)\n          (relu): ReLU()\n        )\n        (2): BasicConv2d(\n          (conv): Conv2d(32, 32, kernel_size=(3, 3), stride=(1, 1), padding=(1, 1), bias=False)\n          (bn): BatchNorm2d(32, eps=0.001, momentum=0.1, affine=True, track_running_stats=True)\n          (relu): ReLU()\n        )\n      )\n      (conv2d): Conv2d(96, 256, kernel_size=(1, 1), stride=(1, 1))\n      (relu): ReLU()\n    )\n    (4): Block35(\n      (branch0): BasicConv2d(\n        (conv): Conv2d(256, 32, kernel_size=(1, 1), stride=(1, 1), bias=False)\n        (bn): BatchNorm2d(32, eps=0.001, momentum=0.1, affine=True, track_running_stats=True)\n        (relu): ReLU()\n      )\n      (branch1): Sequential(\n        (0): BasicConv2d(\n          (conv): Conv2d(256, 32, kernel_size=(1, 1), stride=(1, 1), bias=False)\n          (bn): BatchNorm2d(32, eps=0.001, momentum=0.1, affine=True, track_running_stats=True)\n          (relu): ReLU()\n        )\n        (1): BasicConv2d(\n          (conv): Conv2d(32, 32, kernel_size=(3, 3), stride=(1, 1), padding=(1, 1), bias=False)\n          (bn): BatchNorm2d(32, eps=0.001, momentum=0.1, affine=True, track_running_stats=True)\n          (relu): ReLU()\n        )\n      )\n      (branch2): Sequential(\n        (0): BasicConv2d(\n          (conv): Conv2d(256, 32, kernel_size=(1, 1), stride=(1, 1), bias=False)\n          (bn): BatchNorm2d(32, eps=0.001, momentum=0.1, affine=True, track_running_stats=True)\n          (relu): ReLU()\n        )\n        (1): BasicConv2d(\n          (conv): Conv2d(32, 32, kernel_size=(3, 3), stride=(1, 1), padding=(1, 1), bias=False)\n          (bn): BatchNorm2d(32, eps=0.001, momentum=0.1, affine=True, track_running_stats=True)\n          (relu): ReLU()\n        )\n        (2): BasicConv2d(\n          (conv): Conv2d(32, 32, kernel_size=(3, 3), stride=(1, 1), padding=(1, 1), bias=False)\n          (bn): BatchNorm2d(32, eps=0.001, momentum=0.1, affine=True, track_running_stats=True)\n          (relu): ReLU()\n        )\n      )\n      (conv2d): Conv2d(96, 256, kernel_size=(1, 1), stride=(1, 1))\n      (relu): ReLU()\n    )\n  )\n  (mixed_6a): Mixed_6a(\n    (branch0): BasicConv2d(\n      (conv): Conv2d(256, 384, kernel_size=(3, 3), stride=(2, 2), bias=False)\n      (bn): BatchNorm2d(384, eps=0.001, momentum=0.1, affine=True, track_running_stats=True)\n      (relu): ReLU()\n    )\n    (branch1): Sequential(\n      (0): BasicConv2d(\n        (conv): Conv2d(256, 192, kernel_size=(1, 1), stride=(1, 1), bias=False)\n        (bn): BatchNorm2d(192, eps=0.001, momentum=0.1, affine=True, track_running_stats=True)\n        (relu): ReLU()\n      )\n      (1): BasicConv2d(\n        (conv): Conv2d(192, 192, kernel_size=(3, 3), stride=(1, 1), padding=(1, 1), bias=False)\n        (bn): BatchNorm2d(192, eps=0.001, momentum=0.1, affine=True, track_running_stats=True)\n        (relu): ReLU()\n      )\n      (2): BasicConv2d(\n        (conv): Conv2d(192, 256, kernel_size=(3, 3), stride=(2, 2), bias=False)\n        (bn): BatchNorm2d(256, eps=0.001, momentum=0.1, affine=True, track_running_stats=True)\n        (relu): ReLU()\n      )\n    )\n    (branch2): MaxPool2d(kernel_size=3, stride=2, padding=0, dilation=1, ceil_mode=False)\n  )\n  (repeat_2): Sequential(\n    (0): Block17(\n      (branch0): BasicConv2d(\n        (conv): Conv2d(896, 128, kernel_size=(1, 1), stride=(1, 1), bias=False)\n        (bn): BatchNorm2d(128, eps=0.001, momentum=0.1, affine=True, track_running_stats=True)\n        (relu): ReLU()\n      )\n      (branch1): Sequential(\n        (0): BasicConv2d(\n          (conv): Conv2d(896, 128, kernel_size=(1, 1), stride=(1, 1), bias=False)\n          (bn): BatchNorm2d(128, eps=0.001, momentum=0.1, affine=True, track_running_stats=True)\n          (relu): ReLU()\n        )\n        (1): BasicConv2d(\n          (conv): Conv2d(128, 128, kernel_size=(1, 7), stride=(1, 1), padding=(0, 3), bias=False)\n          (bn): BatchNorm2d(128, eps=0.001, momentum=0.1, affine=True, track_running_stats=True)\n          (relu): ReLU()\n        )\n        (2): BasicConv2d(\n          (conv): Conv2d(128, 128, kernel_size=(7, 1), stride=(1, 1), padding=(3, 0), bias=False)\n          (bn): BatchNorm2d(128, eps=0.001, momentum=0.1, affine=True, track_running_stats=True)\n          (relu): ReLU()\n        )\n      )\n      (conv2d): Conv2d(256, 896, kernel_size=(1, 1), stride=(1, 1))\n      (relu): ReLU()\n    )\n    (1): Block17(\n      (branch0): BasicConv2d(\n        (conv): Conv2d(896, 128, kernel_size=(1, 1), stride=(1, 1), bias=False)\n        (bn): BatchNorm2d(128, eps=0.001, momentum=0.1, affine=True, track_running_stats=True)\n        (relu): ReLU()\n      )\n      (branch1): Sequential(\n        (0): BasicConv2d(\n          (conv): Conv2d(896, 128, kernel_size=(1, 1), stride=(1, 1), bias=False)\n          (bn): BatchNorm2d(128, eps=0.001, momentum=0.1, affine=True, track_running_stats=True)\n          (relu): ReLU()\n        )\n        (1): BasicConv2d(\n          (conv): Conv2d(128, 128, kernel_size=(1, 7), stride=(1, 1), padding=(0, 3), bias=False)\n          (bn): BatchNorm2d(128, eps=0.001, momentum=0.1, affine=True, track_running_stats=True)\n          (relu): ReLU()\n        )\n        (2): BasicConv2d(\n          (conv): Conv2d(128, 128, kernel_size=(7, 1), stride=(1, 1), padding=(3, 0), bias=False)\n          (bn): BatchNorm2d(128, eps=0.001, momentum=0.1, affine=True, track_running_stats=True)\n          (relu): ReLU()\n        )\n      )\n      (conv2d): Conv2d(256, 896, kernel_size=(1, 1), stride=(1, 1))\n      (relu): ReLU()\n    )\n    (2): Block17(\n      (branch0): BasicConv2d(\n        (conv): Conv2d(896, 128, kernel_size=(1, 1), stride=(1, 1), bias=False)\n        (bn): BatchNorm2d(128, eps=0.001, momentum=0.1, affine=True, track_running_stats=True)\n        (relu): ReLU()\n      )\n      (branch1): Sequential(\n        (0): BasicConv2d(\n          (conv): Conv2d(896, 128, kernel_size=(1, 1), stride=(1, 1), bias=False)\n          (bn): BatchNorm2d(128, eps=0.001, momentum=0.1, affine=True, track_running_stats=True)\n          (relu): ReLU()\n        )\n        (1): BasicConv2d(\n          (conv): Conv2d(128, 128, kernel_size=(1, 7), stride=(1, 1), padding=(0, 3), bias=False)\n          (bn): BatchNorm2d(128, eps=0.001, momentum=0.1, affine=True, track_running_stats=True)\n          (relu): ReLU()\n        )\n        (2): BasicConv2d(\n          (conv): Conv2d(128, 128, kernel_size=(7, 1), stride=(1, 1), padding=(3, 0), bias=False)\n          (bn): BatchNorm2d(128, eps=0.001, momentum=0.1, affine=True, track_running_stats=True)\n          (relu): ReLU()\n        )\n      )\n      (conv2d): Conv2d(256, 896, kernel_size=(1, 1), stride=(1, 1))\n      (relu): ReLU()\n    )\n    (3): Block17(\n      (branch0): BasicConv2d(\n        (conv): Conv2d(896, 128, kernel_size=(1, 1), stride=(1, 1), bias=False)\n        (bn): BatchNorm2d(128, eps=0.001, momentum=0.1, affine=True, track_running_stats=True)\n        (relu): ReLU()\n      )\n      (branch1): Sequential(\n        (0): BasicConv2d(\n          (conv): Conv2d(896, 128, kernel_size=(1, 1), stride=(1, 1), bias=False)\n          (bn): BatchNorm2d(128, eps=0.001, momentum=0.1, affine=True, track_running_stats=True)\n          (relu): ReLU()\n        )\n        (1): BasicConv2d(\n          (conv): Conv2d(128, 128, kernel_size=(1, 7), stride=(1, 1), padding=(0, 3), bias=False)\n          (bn): BatchNorm2d(128, eps=0.001, momentum=0.1, affine=True, track_running_stats=True)\n          (relu): ReLU()\n        )\n        (2): BasicConv2d(\n          (conv): Conv2d(128, 128, kernel_size=(7, 1), stride=(1, 1), padding=(3, 0), bias=False)\n          (bn): BatchNorm2d(128, eps=0.001, momentum=0.1, affine=True, track_running_stats=True)\n          (relu): ReLU()\n        )\n      )\n      (conv2d): Conv2d(256, 896, kernel_size=(1, 1), stride=(1, 1))\n      (relu): ReLU()\n    )\n    (4): Block17(\n      (branch0): BasicConv2d(\n        (conv): Conv2d(896, 128, kernel_size=(1, 1), stride=(1, 1), bias=False)\n        (bn): BatchNorm2d(128, eps=0.001, momentum=0.1, affine=True, track_running_stats=True)\n        (relu): ReLU()\n      )\n      (branch1): Sequential(\n        (0): BasicConv2d(\n          (conv): Conv2d(896, 128, kernel_size=(1, 1), stride=(1, 1), bias=False)\n          (bn): BatchNorm2d(128, eps=0.001, momentum=0.1, affine=True, track_running_stats=True)\n          (relu): ReLU()\n        )\n        (1): BasicConv2d(\n          (conv): Conv2d(128, 128, kernel_size=(1, 7), stride=(1, 1), padding=(0, 3), bias=False)\n          (bn): BatchNorm2d(128, eps=0.001, momentum=0.1, affine=True, track_running_stats=True)\n          (relu): ReLU()\n        )\n        (2): BasicConv2d(\n          (conv): Conv2d(128, 128, kernel_size=(7, 1), stride=(1, 1), padding=(3, 0), bias=False)\n          (bn): BatchNorm2d(128, eps=0.001, momentum=0.1, affine=True, track_running_stats=True)\n          (relu): ReLU()\n        )\n      )\n      (conv2d): Conv2d(256, 896, kernel_size=(1, 1), stride=(1, 1))\n      (relu): ReLU()\n    )\n    (5): Block17(\n      (branch0): BasicConv2d(\n        (conv): Conv2d(896, 128, kernel_size=(1, 1), stride=(1, 1), bias=False)\n        (bn): BatchNorm2d(128, eps=0.001, momentum=0.1, affine=True, track_running_stats=True)\n        (relu): ReLU()\n      )\n      (branch1): Sequential(\n        (0): BasicConv2d(\n          (conv): Conv2d(896, 128, kernel_size=(1, 1), stride=(1, 1), bias=False)\n          (bn): BatchNorm2d(128, eps=0.001, momentum=0.1, affine=True, track_running_stats=True)\n          (relu): ReLU()\n        )\n        (1): BasicConv2d(\n          (conv): Conv2d(128, 128, kernel_size=(1, 7), stride=(1, 1), padding=(0, 3), bias=False)\n          (bn): BatchNorm2d(128, eps=0.001, momentum=0.1, affine=True, track_running_stats=True)\n          (relu): ReLU()\n        )\n        (2): BasicConv2d(\n          (conv): Conv2d(128, 128, kernel_size=(7, 1), stride=(1, 1), padding=(3, 0), bias=False)\n          (bn): BatchNorm2d(128, eps=0.001, momentum=0.1, affine=True, track_running_stats=True)\n          (relu): ReLU()\n        )\n      )\n      (conv2d): Conv2d(256, 896, kernel_size=(1, 1), stride=(1, 1))\n      (relu): ReLU()\n    )\n    (6): Block17(\n      (branch0): BasicConv2d(\n        (conv): Conv2d(896, 128, kernel_size=(1, 1), stride=(1, 1), bias=False)\n        (bn): BatchNorm2d(128, eps=0.001, momentum=0.1, affine=True, track_running_stats=True)\n        (relu): ReLU()\n      )\n      (branch1): Sequential(\n        (0): BasicConv2d(\n          (conv): Conv2d(896, 128, kernel_size=(1, 1), stride=(1, 1), bias=False)\n          (bn): BatchNorm2d(128, eps=0.001, momentum=0.1, affine=True, track_running_stats=True)\n          (relu): ReLU()\n        )\n        (1): BasicConv2d(\n          (conv): Conv2d(128, 128, kernel_size=(1, 7), stride=(1, 1), padding=(0, 3), bias=False)\n          (bn): BatchNorm2d(128, eps=0.001, momentum=0.1, affine=True, track_running_stats=True)\n          (relu): ReLU()\n        )\n        (2): BasicConv2d(\n          (conv): Conv2d(128, 128, kernel_size=(7, 1), stride=(1, 1), padding=(3, 0), bias=False)\n          (bn): BatchNorm2d(128, eps=0.001, momentum=0.1, affine=True, track_running_stats=True)\n          (relu): ReLU()\n        )\n      )\n      (conv2d): Conv2d(256, 896, kernel_size=(1, 1), stride=(1, 1))\n      (relu): ReLU()\n    )\n    (7): Block17(\n      (branch0): BasicConv2d(\n        (conv): Conv2d(896, 128, kernel_size=(1, 1), stride=(1, 1), bias=False)\n        (bn): BatchNorm2d(128, eps=0.001, momentum=0.1, affine=True, track_running_stats=True)\n        (relu): ReLU()\n      )\n      (branch1): Sequential(\n        (0): BasicConv2d(\n          (conv): Conv2d(896, 128, kernel_size=(1, 1), stride=(1, 1), bias=False)\n          (bn): BatchNorm2d(128, eps=0.001, momentum=0.1, affine=True, track_running_stats=True)\n          (relu): ReLU()\n        )\n        (1): BasicConv2d(\n          (conv): Conv2d(128, 128, kernel_size=(1, 7), stride=(1, 1), padding=(0, 3), bias=False)\n          (bn): BatchNorm2d(128, eps=0.001, momentum=0.1, affine=True, track_running_stats=True)\n          (relu): ReLU()\n        )\n        (2): BasicConv2d(\n          (conv): Conv2d(128, 128, kernel_size=(7, 1), stride=(1, 1), padding=(3, 0), bias=False)\n          (bn): BatchNorm2d(128, eps=0.001, momentum=0.1, affine=True, track_running_stats=True)\n          (relu): ReLU()\n        )\n      )\n      (conv2d): Conv2d(256, 896, kernel_size=(1, 1), stride=(1, 1))\n      (relu): ReLU()\n    )\n    (8): Block17(\n      (branch0): BasicConv2d(\n        (conv): Conv2d(896, 128, kernel_size=(1, 1), stride=(1, 1), bias=False)\n        (bn): BatchNorm2d(128, eps=0.001, momentum=0.1, affine=True, track_running_stats=True)\n        (relu): ReLU()\n      )\n      (branch1): Sequential(\n        (0): BasicConv2d(\n          (conv): Conv2d(896, 128, kernel_size=(1, 1), stride=(1, 1), bias=False)\n          (bn): BatchNorm2d(128, eps=0.001, momentum=0.1, affine=True, track_running_stats=True)\n          (relu): ReLU()\n        )\n        (1): BasicConv2d(\n          (conv): Conv2d(128, 128, kernel_size=(1, 7), stride=(1, 1), padding=(0, 3), bias=False)\n          (bn): BatchNorm2d(128, eps=0.001, momentum=0.1, affine=True, track_running_stats=True)\n          (relu): ReLU()\n        )\n        (2): BasicConv2d(\n          (conv): Conv2d(128, 128, kernel_size=(7, 1), stride=(1, 1), padding=(3, 0), bias=False)\n          (bn): BatchNorm2d(128, eps=0.001, momentum=0.1, affine=True, track_running_stats=True)\n          (relu): ReLU()\n        )\n      )\n      (conv2d): Conv2d(256, 896, kernel_size=(1, 1), stride=(1, 1))\n      (relu): ReLU()\n    )\n    (9): Block17(\n      (branch0): BasicConv2d(\n        (conv): Conv2d(896, 128, kernel_size=(1, 1), stride=(1, 1), bias=False)\n        (bn): BatchNorm2d(128, eps=0.001, momentum=0.1, affine=True, track_running_stats=True)\n        (relu): ReLU()\n      )\n      (branch1): Sequential(\n        (0): BasicConv2d(\n          (conv): Conv2d(896, 128, kernel_size=(1, 1), stride=(1, 1), bias=False)\n          (bn): BatchNorm2d(128, eps=0.001, momentum=0.1, affine=True, track_running_stats=True)\n          (relu): ReLU()\n        )\n        (1): BasicConv2d(\n          (conv): Conv2d(128, 128, kernel_size=(1, 7), stride=(1, 1), padding=(0, 3), bias=False)\n          (bn): BatchNorm2d(128, eps=0.001, momentum=0.1, affine=True, track_running_stats=True)\n          (relu): ReLU()\n        )\n        (2): BasicConv2d(\n          (conv): Conv2d(128, 128, kernel_size=(7, 1), stride=(1, 1), padding=(3, 0), bias=False)\n          (bn): BatchNorm2d(128, eps=0.001, momentum=0.1, affine=True, track_running_stats=True)\n          (relu): ReLU()\n        )\n      )\n      (conv2d): Conv2d(256, 896, kernel_size=(1, 1), stride=(1, 1))\n      (relu): ReLU()\n    )\n  )\n  (mixed_7a): Mixed_7a(\n    (branch0): Sequential(\n      (0): BasicConv2d(\n        (conv): Conv2d(896, 256, kernel_size=(1, 1), stride=(1, 1), bias=False)\n        (bn): BatchNorm2d(256, eps=0.001, momentum=0.1, affine=True, track_running_stats=True)\n        (relu): ReLU()\n      )\n      (1): BasicConv2d(\n        (conv): Conv2d(256, 384, kernel_size=(3, 3), stride=(2, 2), bias=False)\n        (bn): BatchNorm2d(384, eps=0.001, momentum=0.1, affine=True, track_running_stats=True)\n        (relu): ReLU()\n      )\n    )\n    (branch1): Sequential(\n      (0): BasicConv2d(\n        (conv): Conv2d(896, 256, kernel_size=(1, 1), stride=(1, 1), bias=False)\n        (bn): BatchNorm2d(256, eps=0.001, momentum=0.1, affine=True, track_running_stats=True)\n        (relu): ReLU()\n      )\n      (1): BasicConv2d(\n        (conv): Conv2d(256, 256, kernel_size=(3, 3), stride=(2, 2), bias=False)\n        (bn): BatchNorm2d(256, eps=0.001, momentum=0.1, affine=True, track_running_stats=True)\n        (relu): ReLU()\n      )\n    )\n    (branch2): Sequential(\n      (0): BasicConv2d(\n        (conv): Conv2d(896, 256, kernel_size=(1, 1), stride=(1, 1), bias=False)\n        (bn): BatchNorm2d(256, eps=0.001, momentum=0.1, affine=True, track_running_stats=True)\n        (relu): ReLU()\n      )\n      (1): BasicConv2d(\n        (conv): Conv2d(256, 256, kernel_size=(3, 3), stride=(1, 1), padding=(1, 1), bias=False)\n        (bn): BatchNorm2d(256, eps=0.001, momentum=0.1, affine=True, track_running_stats=True)\n        (relu): ReLU()\n      )\n      (2): BasicConv2d(\n        (conv): Conv2d(256, 256, kernel_size=(3, 3), stride=(2, 2), bias=False)\n        (bn): BatchNorm2d(256, eps=0.001, momentum=0.1, affine=True, track_running_stats=True)\n        (relu): ReLU()\n      )\n    )\n    (branch3): MaxPool2d(kernel_size=3, stride=2, padding=0, dilation=1, ceil_mode=False)\n  )\n  (repeat_3): Sequential(\n    (0): Block8(\n      (branch0): BasicConv2d(\n        (conv): Conv2d(1792, 192, kernel_size=(1, 1), stride=(1, 1), bias=False)\n        (bn): BatchNorm2d(192, eps=0.001, momentum=0.1, affine=True, track_running_stats=True)\n        (relu): ReLU()\n      )\n      (branch1): Sequential(\n        (0): BasicConv2d(\n          (conv): Conv2d(1792, 192, kernel_size=(1, 1), stride=(1, 1), bias=False)\n          (bn): BatchNorm2d(192, eps=0.001, momentum=0.1, affine=True, track_running_stats=True)\n          (relu): ReLU()\n        )\n        (1): BasicConv2d(\n          (conv): Conv2d(192, 192, kernel_size=(1, 3), stride=(1, 1), padding=(0, 1), bias=False)\n          (bn): BatchNorm2d(192, eps=0.001, momentum=0.1, affine=True, track_running_stats=True)\n          (relu): ReLU()\n        )\n        (2): BasicConv2d(\n          (conv): Conv2d(192, 192, kernel_size=(3, 1), stride=(1, 1), padding=(1, 0), bias=False)\n          (bn): BatchNorm2d(192, eps=0.001, momentum=0.1, affine=True, track_running_stats=True)\n          (relu): ReLU()\n        )\n      )\n      (conv2d): Conv2d(384, 1792, kernel_size=(1, 1), stride=(1, 1))\n      (relu): ReLU()\n    )\n    (1): Block8(\n      (branch0): BasicConv2d(\n        (conv): Conv2d(1792, 192, kernel_size=(1, 1), stride=(1, 1), bias=False)\n        (bn): BatchNorm2d(192, eps=0.001, momentum=0.1, affine=True, track_running_stats=True)\n        (relu): ReLU()\n      )\n      (branch1): Sequential(\n        (0): BasicConv2d(\n          (conv): Conv2d(1792, 192, kernel_size=(1, 1), stride=(1, 1), bias=False)\n          (bn): BatchNorm2d(192, eps=0.001, momentum=0.1, affine=True, track_running_stats=True)\n          (relu): ReLU()\n        )\n        (1): BasicConv2d(\n          (conv): Conv2d(192, 192, kernel_size=(1, 3), stride=(1, 1), padding=(0, 1), bias=False)\n          (bn): BatchNorm2d(192, eps=0.001, momentum=0.1, affine=True, track_running_stats=True)\n          (relu): ReLU()\n        )\n        (2): BasicConv2d(\n          (conv): Conv2d(192, 192, kernel_size=(3, 1), stride=(1, 1), padding=(1, 0), bias=False)\n          (bn): BatchNorm2d(192, eps=0.001, momentum=0.1, affine=True, track_running_stats=True)\n          (relu): ReLU()\n        )\n      )\n      (conv2d): Conv2d(384, 1792, kernel_size=(1, 1), stride=(1, 1))\n      (relu): ReLU()\n    )\n    (2): Block8(\n      (branch0): BasicConv2d(\n        (conv): Conv2d(1792, 192, kernel_size=(1, 1), stride=(1, 1), bias=False)\n        (bn): BatchNorm2d(192, eps=0.001, momentum=0.1, affine=True, track_running_stats=True)\n        (relu): ReLU()\n      )\n      (branch1): Sequential(\n        (0): BasicConv2d(\n          (conv): Conv2d(1792, 192, kernel_size=(1, 1), stride=(1, 1), bias=False)\n          (bn): BatchNorm2d(192, eps=0.001, momentum=0.1, affine=True, track_running_stats=True)\n          (relu): ReLU()\n        )\n        (1): BasicConv2d(\n          (conv): Conv2d(192, 192, kernel_size=(1, 3), stride=(1, 1), padding=(0, 1), bias=False)\n          (bn): BatchNorm2d(192, eps=0.001, momentum=0.1, affine=True, track_running_stats=True)\n          (relu): ReLU()\n        )\n        (2): BasicConv2d(\n          (conv): Conv2d(192, 192, kernel_size=(3, 1), stride=(1, 1), padding=(1, 0), bias=False)\n          (bn): BatchNorm2d(192, eps=0.001, momentum=0.1, affine=True, track_running_stats=True)\n          (relu): ReLU()\n        )\n      )\n      (conv2d): Conv2d(384, 1792, kernel_size=(1, 1), stride=(1, 1))\n      (relu): ReLU()\n    )\n    (3): Block8(\n      (branch0): BasicConv2d(\n        (conv): Conv2d(1792, 192, kernel_size=(1, 1), stride=(1, 1), bias=False)\n        (bn): BatchNorm2d(192, eps=0.001, momentum=0.1, affine=True, track_running_stats=True)\n        (relu): ReLU()\n      )\n      (branch1): Sequential(\n        (0): BasicConv2d(\n          (conv): Conv2d(1792, 192, kernel_size=(1, 1), stride=(1, 1), bias=False)\n          (bn): BatchNorm2d(192, eps=0.001, momentum=0.1, affine=True, track_running_stats=True)\n          (relu): ReLU()\n        )\n        (1): BasicConv2d(\n          (conv): Conv2d(192, 192, kernel_size=(1, 3), stride=(1, 1), padding=(0, 1), bias=False)\n          (bn): BatchNorm2d(192, eps=0.001, momentum=0.1, affine=True, track_running_stats=True)\n          (relu): ReLU()\n        )\n        (2): BasicConv2d(\n          (conv): Conv2d(192, 192, kernel_size=(3, 1), stride=(1, 1), padding=(1, 0), bias=False)\n          (bn): BatchNorm2d(192, eps=0.001, momentum=0.1, affine=True, track_running_stats=True)\n          (relu): ReLU()\n        )\n      )\n      (conv2d): Conv2d(384, 1792, kernel_size=(1, 1), stride=(1, 1))\n      (relu): ReLU()\n    )\n    (4): Block8(\n      (branch0): BasicConv2d(\n        (conv): Conv2d(1792, 192, kernel_size=(1, 1), stride=(1, 1), bias=False)\n        (bn): BatchNorm2d(192, eps=0.001, momentum=0.1, affine=True, track_running_stats=True)\n        (relu): ReLU()\n      )\n      (branch1): Sequential(\n        (0): BasicConv2d(\n          (conv): Conv2d(1792, 192, kernel_size=(1, 1), stride=(1, 1), bias=False)\n          (bn): BatchNorm2d(192, eps=0.001, momentum=0.1, affine=True, track_running_stats=True)\n          (relu): ReLU()\n        )\n        (1): BasicConv2d(\n          (conv): Conv2d(192, 192, kernel_size=(1, 3), stride=(1, 1), padding=(0, 1), bias=False)\n          (bn): BatchNorm2d(192, eps=0.001, momentum=0.1, affine=True, track_running_stats=True)\n          (relu): ReLU()\n        )\n        (2): BasicConv2d(\n          (conv): Conv2d(192, 192, kernel_size=(3, 1), stride=(1, 1), padding=(1, 0), bias=False)\n          (bn): BatchNorm2d(192, eps=0.001, momentum=0.1, affine=True, track_running_stats=True)\n          (relu): ReLU()\n        )\n      )\n      (conv2d): Conv2d(384, 1792, kernel_size=(1, 1), stride=(1, 1))\n      (relu): ReLU()\n    )\n  )\n  (block8): Block8(\n    (branch0): BasicConv2d(\n      (conv): Conv2d(1792, 192, kernel_size=(1, 1), stride=(1, 1), bias=False)\n      (bn): BatchNorm2d(192, eps=0.001, momentum=0.1, affine=True, track_running_stats=True)\n      (relu): ReLU()\n    )\n    (branch1): Sequential(\n      (0): BasicConv2d(\n        (conv): Conv2d(1792, 192, kernel_size=(1, 1), stride=(1, 1), bias=False)\n        (bn): BatchNorm2d(192, eps=0.001, momentum=0.1, affine=True, track_running_stats=True)\n        (relu): ReLU()\n      )\n      (1): BasicConv2d(\n        (conv): Conv2d(192, 192, kernel_size=(1, 3), stride=(1, 1), padding=(0, 1), bias=False)\n        (bn): BatchNorm2d(192, eps=0.001, momentum=0.1, affine=True, track_running_stats=True)\n        (relu): ReLU()\n      )\n      (2): BasicConv2d(\n        (conv): Conv2d(192, 192, kernel_size=(3, 1), stride=(1, 1), padding=(1, 0), bias=False)\n        (bn): BatchNorm2d(192, eps=0.001, momentum=0.1, affine=True, track_running_stats=True)\n        (relu): ReLU()\n      )\n    )\n    (conv2d): Conv2d(384, 1792, kernel_size=(1, 1), stride=(1, 1))\n  )\n  (avgpool_1a): AdaptiveAvgPool2d(output_size=1)\n  (dropout): Dropout(p=0.6, inplace=False)\n  (last_linear): Linear(in_features=1792, out_features=512, bias=False)\n  (last_bn): BatchNorm1d(512, eps=0.001, momentum=0.1, affine=True, track_running_stats=True)\n  (logits): Linear(in_features=512, out_features=10575, bias=True)\n)"
     },
     "execution_count": 9,
     "metadata": {},
     "output_type": "execute_result"
    }
   ],
   "source": [
    "model = InceptionResnetV1(\n",
    "    classify=False,\n",
    "    pretrained=\"casia-webface\"\n",
    ").to(device)\n",
    "\n",
    "model.eval()"
   ],
   "metadata": {
    "collapsed": false,
    "pycharm": {
     "name": "#%%\n"
    }
   }
  },
  {
   "cell_type": "markdown",
   "source": [
    "Lấy camera"
   ],
   "metadata": {
    "collapsed": false
   }
  },
  {
   "cell_type": "code",
   "execution_count": 10,
   "outputs": [
    {
     "data": {
      "text/plain": "True"
     },
     "execution_count": 10,
     "metadata": {},
     "output_type": "execute_result"
    }
   ],
   "source": [
    "video_cap = cv2.VideoCapture(0)\n",
    "video_cap.set(cv2.CAP_PROP_FRAME_WIDTH, 640)\n",
    "video_cap.set(cv2.CAP_PROP_FRAME_HEIGHT,480)"
   ],
   "metadata": {
    "collapsed": false,
    "pycharm": {
     "name": "#%%\n"
    }
   }
  },
  {
   "cell_type": "markdown",
   "source": [
    "### Funtion"
   ],
   "metadata": {
    "collapsed": false
   }
  },
  {
   "cell_type": "markdown",
   "source": [
    "extract_face: Trích xuất khuôn mặt từ các bounding box\n",
    "Thông số:\n",
    "- margin: Tương đương với margin khi capture_face ( để là 20)\n"
   ],
   "metadata": {
    "collapsed": false
   }
  },
  {
   "cell_type": "code",
   "execution_count": 11,
   "outputs": [],
   "source": [
    "def extract_face(box, img, margin=20):\n",
    "    face_size = 160\n",
    "    img_size = frame_size\n",
    "    margin = [\n",
    "        margin * (box[2] - box[0]) / (face_size - margin),\n",
    "        margin * (box[3] - box[1]) / (face_size - margin),\n",
    "    ] #tạo margin bao quanh box cũ\n",
    "    box = [\n",
    "        int(max(box[0] - margin[0] / 2, 0)),\n",
    "        int(max(box[1] - margin[1] / 2, 0)),\n",
    "        int(min(box[2] + margin[0] / 2, img_size[0])),\n",
    "        int(min(box[3] + margin[1] / 2, img_size[1])),\n",
    "    ]\n",
    "    img = img[box[1]:box[3], box[0]:box[2]]\n",
    "    face = cv2.resize(img,(face_size, face_size), interpolation=cv2.INTER_AREA)\n",
    "    face = Image.fromarray(face)\n",
    "    return face"
   ],
   "metadata": {
    "collapsed": false,
    "pycharm": {
     "name": "#%%\n"
    }
   }
  },
  {
   "cell_type": "markdown",
   "source": [
    "Kết xuất embedding cho từng ảnh mặt - thứ đã được extract từ hàm extract_face() ở trên"
   ],
   "metadata": {
    "collapsed": false
   }
  },
  {
   "cell_type": "code",
   "execution_count": 12,
   "outputs": [],
   "source": [
    "def inference(model, face, local_embeds, threshold = 3):\n",
    "    #local: [n,512] voi n la so nguoi trong faceslist\n",
    "    embeds = []\n",
    "    # print(trans(face).unsqueeze(0).shape)\n",
    "    embeds.append(model(trans(face).to(device).unsqueeze(0)))\n",
    "    detect_embeds = torch.cat(embeds) #[1,512]\n",
    "    # print(detect_embeds.shape)\n",
    "    #[1,512,1]                                      [1,512,n]\n",
    "    norm_diff = detect_embeds.unsqueeze(-1) - torch.transpose(local_embeds, 0, 1).unsqueeze(0)\n",
    "    # print(norm_diff)\n",
    "    norm_score = torch.sum(torch.pow(norm_diff, 2), dim=1) #(1,n), moi cot la tong khoang cach euclide so vs embed moi\n",
    "\n",
    "    min_dist, embed_idx = torch.min(norm_score, dim = 1)\n",
    "    print(min_dist*power, names[embed_idx])\n",
    "    # print(min_dist.shape)\n",
    "    if min_dist*power > threshold:\n",
    "        return -1, -1\n",
    "    else:\n",
    "        return embed_idx, min_dist.double()"
   ],
   "metadata": {
    "collapsed": false,
    "pycharm": {
     "name": "#%%\n"
    }
   }
  },
  {
   "cell_type": "markdown",
   "source": [
    "main"
   ],
   "metadata": {
    "collapsed": false
   }
  },
  {
   "cell_type": "code",
   "execution_count": 13,
   "outputs": [],
   "source": [
    "mpDraw = mp.solutions.drawing_utils\n",
    "mpPose = mp.solutions.pose\n",
    "pose = mpPose.Pose()"
   ],
   "metadata": {
    "collapsed": false,
    "pycharm": {
     "name": "#%%\n"
    }
   }
  },
  {
   "cell_type": "code",
   "execution_count": 14,
   "outputs": [],
   "source": [
    "x = [1200, 980, 800, 680, 580, 520, 448, 412, 372, 348, 320, 300, 280, 268, 248, 236, 228]\n",
    "y = [20, 25, 30, 35, 40, 45, 50, 55, 60, 65, 70, 75, 80, 85, 90, 95, 100]\n",
    "coff = np.polyfit(x, y, 2)  # y = Ax^2 + Bx + C\n",
    "A, B, C = coff"
   ],
   "metadata": {
    "collapsed": false,
    "pycharm": {
     "name": "#%%\n"
    }
   }
  },
  {
   "cell_type": "code",
   "execution_count": 15,
   "outputs": [],
   "source": [
    "prev_frame_time = 0\n",
    "new_frame_time = 0\n",
    "power = pow(10, 6)"
   ],
   "metadata": {
    "collapsed": false,
    "pycharm": {
     "name": "#%%\n"
    }
   }
  },
  {
   "cell_type": "code",
   "execution_count": 16,
   "outputs": [
    {
     "name": "stdout",
     "output_type": "stream",
     "text": [
      "tensor([0.3128], device='cuda:0', grad_fn=<MulBackward0>) Cong\n",
      "tensor([0.5563], device='cuda:0', grad_fn=<MulBackward0>) Cong\n",
      "tensor([0.3875], device='cuda:0', grad_fn=<MulBackward0>) Cong\n",
      "tensor([0.0525], device='cuda:0', grad_fn=<MulBackward0>) Cong\n",
      "tensor([1.9103], device='cuda:0', grad_fn=<MulBackward0>) Cong\n",
      "tensor([9.6077], device='cuda:0', grad_fn=<MulBackward0>) Cong\n",
      "tensor([3.7852], device='cuda:0', grad_fn=<MulBackward0>) Cong\n",
      "tensor([3.4740], device='cuda:0', grad_fn=<MulBackward0>) Cong\n",
      "tensor([18.8918], device='cuda:0', grad_fn=<MulBackward0>) Cong\n",
      "tensor([21.0139], device='cuda:0', grad_fn=<MulBackward0>) Cong\n",
      "tensor([22.2479], device='cuda:0', grad_fn=<MulBackward0>) Cong\n",
      "tensor([0.3057], device='cuda:0', grad_fn=<MulBackward0>) Cong\n",
      "tensor([19.7116], device='cuda:0', grad_fn=<MulBackward0>) Cong\n",
      "tensor([8.4338], device='cuda:0', grad_fn=<MulBackward0>) Cong\n",
      "tensor([0.5268], device='cuda:0', grad_fn=<MulBackward0>) Cong\n",
      "tensor([9.9320], device='cuda:0', grad_fn=<MulBackward0>) Cong\n",
      "tensor([0.4485], device='cuda:0', grad_fn=<MulBackward0>) Cong\n",
      "tensor([17.8893], device='cuda:0', grad_fn=<MulBackward0>) Cong\n",
      "tensor([0.4740], device='cuda:0', grad_fn=<MulBackward0>) Cong\n",
      "tensor([21.3124], device='cuda:0', grad_fn=<MulBackward0>) Cong\n",
      "tensor([0.4276], device='cuda:0', grad_fn=<MulBackward0>) Cong\n",
      "tensor([19.4313], device='cuda:0', grad_fn=<MulBackward0>) Cong\n",
      "tensor([18.0694], device='cuda:0', grad_fn=<MulBackward0>) Cong\n",
      "tensor([27.8547], device='cuda:0', grad_fn=<MulBackward0>) Cong\n",
      "tensor([12.7361], device='cuda:0', grad_fn=<MulBackward0>) Cong\n",
      "tensor([20.5381], device='cuda:0', grad_fn=<MulBackward0>) Cong\n",
      "tensor([10.5524], device='cuda:0', grad_fn=<MulBackward0>) Cong\n",
      "tensor([11.6836], device='cuda:0', grad_fn=<MulBackward0>) Cong\n",
      "tensor([8.9924], device='cuda:0', grad_fn=<MulBackward0>) Cong\n",
      "tensor([0.3801], device='cuda:0', grad_fn=<MulBackward0>) Cong\n",
      "tensor([0.6468], device='cuda:0', grad_fn=<MulBackward0>) Cong\n",
      "tensor([21.4122], device='cuda:0', grad_fn=<MulBackward0>) Cong\n",
      "tensor([0.3297], device='cuda:0', grad_fn=<MulBackward0>) Cong\n",
      "tensor([17.1492], device='cuda:0', grad_fn=<MulBackward0>) Cong\n",
      "tensor([6.6751], device='cuda:0', grad_fn=<MulBackward0>) Cong\n",
      "tensor([10.0447], device='cuda:0', grad_fn=<MulBackward0>) Cong\n",
      "tensor([16.1825], device='cuda:0', grad_fn=<MulBackward0>) Cong\n",
      "tensor([14.5480], device='cuda:0', grad_fn=<MulBackward0>) Cong\n",
      "tensor([0.9393], device='cuda:0', grad_fn=<MulBackward0>) Cong\n",
      "tensor([10.7408], device='cuda:0', grad_fn=<MulBackward0>) Cong\n",
      "tensor([10.4171], device='cuda:0', grad_fn=<MulBackward0>) Cong\n",
      "tensor([11.7722], device='cuda:0', grad_fn=<MulBackward0>) Cong\n",
      "tensor([11.6200], device='cuda:0', grad_fn=<MulBackward0>) Cong\n",
      "tensor([11.0919], device='cuda:0', grad_fn=<MulBackward0>) Cong\n",
      "tensor([3.0828], device='cuda:0', grad_fn=<MulBackward0>) Cong\n",
      "tensor([10.2405], device='cuda:0', grad_fn=<MulBackward0>) Cong\n",
      "tensor([12.4070], device='cuda:0', grad_fn=<MulBackward0>) Cong\n",
      "tensor([8.7539], device='cuda:0', grad_fn=<MulBackward0>) Cong\n",
      "tensor([5.5375], device='cuda:0', grad_fn=<MulBackward0>) Cong\n",
      "tensor([8.3543], device='cuda:0', grad_fn=<MulBackward0>) Cong\n",
      "tensor([4.8538], device='cuda:0', grad_fn=<MulBackward0>) Cong\n",
      "tensor([0.0493], device='cuda:0', grad_fn=<MulBackward0>) Cong\n",
      "tensor([0.1598], device='cuda:0', grad_fn=<MulBackward0>) Cong\n",
      "tensor([4.0112], device='cuda:0', grad_fn=<MulBackward0>) Cong\n",
      "tensor([12.8001], device='cuda:0', grad_fn=<MulBackward0>) Cong\n",
      "tensor([0.2220], device='cuda:0', grad_fn=<MulBackward0>) Cong\n",
      "tensor([14.8568], device='cuda:0', grad_fn=<MulBackward0>) Cong\n",
      "tensor([18.0685], device='cuda:0', grad_fn=<MulBackward0>) Cong\n",
      "tensor([10.1839], device='cuda:0', grad_fn=<MulBackward0>) Cong\n",
      "tensor([12.2785], device='cuda:0', grad_fn=<MulBackward0>) Cong\n",
      "tensor([0.8343], device='cuda:0', grad_fn=<MulBackward0>) Cong\n",
      "tensor([15.9239], device='cuda:0', grad_fn=<MulBackward0>) Cong\n",
      "tensor([6.6583], device='cuda:0', grad_fn=<MulBackward0>) Cong\n",
      "tensor([12.1791], device='cuda:0', grad_fn=<MulBackward0>) Cong\n",
      "tensor([7.4621], device='cuda:0', grad_fn=<MulBackward0>) Cong\n",
      "tensor([8.9877], device='cuda:0', grad_fn=<MulBackward0>) Cong\n",
      "tensor([12.3911], device='cuda:0', grad_fn=<MulBackward0>) Cong\n",
      "tensor([12.9334], device='cuda:0', grad_fn=<MulBackward0>) Cong\n",
      "tensor([0.2681], device='cuda:0', grad_fn=<MulBackward0>) Cong\n",
      "tensor([14.4407], device='cuda:0', grad_fn=<MulBackward0>) Cong\n",
      "tensor([7.3631], device='cuda:0', grad_fn=<MulBackward0>) Cong\n",
      "tensor([11.9684], device='cuda:0', grad_fn=<MulBackward0>) Cong\n",
      "tensor([12.4847], device='cuda:0', grad_fn=<MulBackward0>) Cong\n",
      "tensor([16.7370], device='cuda:0', grad_fn=<MulBackward0>) Cong\n",
      "tensor([8.7234], device='cuda:0', grad_fn=<MulBackward0>) Cong\n",
      "tensor([15.8706], device='cuda:0', grad_fn=<MulBackward0>) Cong\n",
      "tensor([15.2698], device='cuda:0', grad_fn=<MulBackward0>) Cong\n",
      "tensor([6.7573], device='cuda:0', grad_fn=<MulBackward0>) Cong\n",
      "tensor([10.3512], device='cuda:0', grad_fn=<MulBackward0>) Cong\n",
      "tensor([6.6941], device='cuda:0', grad_fn=<MulBackward0>) Cong\n",
      "tensor([3.0662], device='cuda:0', grad_fn=<MulBackward0>) Cong\n",
      "tensor([5.0017], device='cuda:0', grad_fn=<MulBackward0>) Cong\n",
      "tensor([9.2679], device='cuda:0', grad_fn=<MulBackward0>) Cong\n",
      "tensor([3.9886], device='cuda:0', grad_fn=<MulBackward0>) Cong\n",
      "tensor([3.6011], device='cuda:0', grad_fn=<MulBackward0>) Cong\n",
      "tensor([4.7669], device='cuda:0', grad_fn=<MulBackward0>) Cong\n",
      "tensor([2.9884], device='cuda:0', grad_fn=<MulBackward0>) Cong\n",
      "tensor([5.6194], device='cuda:0', grad_fn=<MulBackward0>) Cong\n",
      "tensor([2.0437], device='cuda:0', grad_fn=<MulBackward0>) Cong\n",
      "tensor([7.7235], device='cuda:0', grad_fn=<MulBackward0>) Cong\n",
      "tensor([5.9799], device='cuda:0', grad_fn=<MulBackward0>) Cong\n",
      "tensor([0.2235], device='cuda:0', grad_fn=<MulBackward0>) Cong\n",
      "tensor([7.8143], device='cuda:0', grad_fn=<MulBackward0>) Cong\n",
      "tensor([6.5902], device='cuda:0', grad_fn=<MulBackward0>) Cong\n",
      "tensor([10.5391], device='cuda:0', grad_fn=<MulBackward0>) Cong\n",
      "tensor([11.0559], device='cuda:0', grad_fn=<MulBackward0>) Cong\n",
      "tensor([6.7218], device='cuda:0', grad_fn=<MulBackward0>) Cong\n",
      "tensor([7.4600], device='cuda:0', grad_fn=<MulBackward0>) Cong\n",
      "tensor([9.2425], device='cuda:0', grad_fn=<MulBackward0>) Cong\n",
      "tensor([7.6317], device='cuda:0', grad_fn=<MulBackward0>) Cong\n",
      "tensor([7.5045], device='cuda:0', grad_fn=<MulBackward0>) Cong\n",
      "tensor([0.1394], device='cuda:0', grad_fn=<MulBackward0>) Cong\n",
      "tensor([0.2426], device='cuda:0', grad_fn=<MulBackward0>) Cong\n",
      "tensor([0.1803], device='cuda:0', grad_fn=<MulBackward0>) Cong\n",
      "tensor([0.2524], device='cuda:0', grad_fn=<MulBackward0>) Cong\n",
      "tensor([0.1143], device='cuda:0', grad_fn=<MulBackward0>) Cong\n",
      "tensor([0.2536], device='cuda:0', grad_fn=<MulBackward0>) Cong\n",
      "tensor([0.3233], device='cuda:0', grad_fn=<MulBackward0>) Cong\n",
      "tensor([0.3141], device='cuda:0', grad_fn=<MulBackward0>) Cong\n",
      "tensor([0.2325], device='cuda:0', grad_fn=<MulBackward0>) Cong\n",
      "tensor([0.2091], device='cuda:0', grad_fn=<MulBackward0>) Cong\n",
      "tensor([0.3966], device='cuda:0', grad_fn=<MulBackward0>) Cong\n",
      "tensor([0.4767], device='cuda:0', grad_fn=<MulBackward0>) Cong\n",
      "tensor([4.1965], device='cuda:0', grad_fn=<MulBackward0>) Cong\n",
      "tensor([2.3447], device='cuda:0', grad_fn=<MulBackward0>) Cong\n",
      "tensor([17.8790], device='cuda:0', grad_fn=<MulBackward0>) Cong\n",
      "tensor([0.1304], device='cuda:0', grad_fn=<MulBackward0>) Cong\n",
      "tensor([10.4397], device='cuda:0', grad_fn=<MulBackward0>) Cong\n",
      "tensor([0.0874], device='cuda:0', grad_fn=<MulBackward0>) Cong\n",
      "tensor([0.8064], device='cuda:0', grad_fn=<MulBackward0>) Cong\n",
      "tensor([0.5841], device='cuda:0', grad_fn=<MulBackward0>) Cong\n",
      "tensor([0.3744], device='cuda:0', grad_fn=<MulBackward0>) Cong\n",
      "tensor([1.4234], device='cuda:0', grad_fn=<MulBackward0>) Cong\n",
      "tensor([1.6800], device='cuda:0', grad_fn=<MulBackward0>) Cong\n",
      "tensor([8.7907], device='cuda:0', grad_fn=<MulBackward0>) Cong\n",
      "tensor([11.7731], device='cuda:0', grad_fn=<MulBackward0>) Cong\n",
      "tensor([5.9602], device='cuda:0', grad_fn=<MulBackward0>) Cong\n",
      "tensor([11.3968], device='cuda:0', grad_fn=<MulBackward0>) Cong\n",
      "tensor([8.5476], device='cuda:0', grad_fn=<MulBackward0>) Cong\n",
      "tensor([5.2921], device='cuda:0', grad_fn=<MulBackward0>) Cong\n",
      "tensor([2.2562], device='cuda:0', grad_fn=<MulBackward0>) Cong\n",
      "tensor([8.6902], device='cuda:0', grad_fn=<MulBackward0>) Cong\n",
      "tensor([2.3012], device='cuda:0', grad_fn=<MulBackward0>) Cong\n",
      "tensor([8.1489], device='cuda:0', grad_fn=<MulBackward0>) Cong\n",
      "tensor([9.9626], device='cuda:0', grad_fn=<MulBackward0>) Cong\n",
      "tensor([10.1817], device='cuda:0', grad_fn=<MulBackward0>) Cong\n",
      "tensor([10.1060], device='cuda:0', grad_fn=<MulBackward0>) Cong\n",
      "tensor([5.4930], device='cuda:0', grad_fn=<MulBackward0>) Cong\n",
      "tensor([4.8677], device='cuda:0', grad_fn=<MulBackward0>) Cong\n",
      "tensor([6.9525], device='cuda:0', grad_fn=<MulBackward0>) Cong\n",
      "tensor([5.9823], device='cuda:0', grad_fn=<MulBackward0>) Cong\n",
      "tensor([3.1814], device='cuda:0', grad_fn=<MulBackward0>) Cong\n",
      "tensor([8.7743], device='cuda:0', grad_fn=<MulBackward0>) Cong\n",
      "tensor([4.3509], device='cuda:0', grad_fn=<MulBackward0>) Cong\n",
      "tensor([4.4457], device='cuda:0', grad_fn=<MulBackward0>) Cong\n",
      "tensor([2.5244], device='cuda:0', grad_fn=<MulBackward0>) Cong\n",
      "tensor([4.8393], device='cuda:0', grad_fn=<MulBackward0>) Cong\n",
      "tensor([6.1220], device='cuda:0', grad_fn=<MulBackward0>) Cong\n",
      "tensor([0.4166], device='cuda:0', grad_fn=<MulBackward0>) Cong\n",
      "tensor([0.0681], device='cuda:0', grad_fn=<MulBackward0>) Cong\n",
      "tensor([1.4620], device='cuda:0', grad_fn=<MulBackward0>) Cong\n",
      "tensor([1.2882], device='cuda:0', grad_fn=<MulBackward0>) Cong\n",
      "tensor([1.9132], device='cuda:0', grad_fn=<MulBackward0>) Cong\n",
      "tensor([1.3637], device='cuda:0', grad_fn=<MulBackward0>) Cong\n",
      "tensor([1.9260], device='cuda:0', grad_fn=<MulBackward0>) Cong\n",
      "tensor([1.0803], device='cuda:0', grad_fn=<MulBackward0>) Cong\n",
      "tensor([1.2966], device='cuda:0', grad_fn=<MulBackward0>) Cong\n",
      "tensor([1.2874], device='cuda:0', grad_fn=<MulBackward0>) Cong\n",
      "tensor([1.1954], device='cuda:0', grad_fn=<MulBackward0>) Cong\n",
      "tensor([1.3720], device='cuda:0', grad_fn=<MulBackward0>) Cong\n",
      "tensor([1.2520], device='cuda:0', grad_fn=<MulBackward0>) Cong\n",
      "tensor([1.1024], device='cuda:0', grad_fn=<MulBackward0>) Cong\n",
      "tensor([0.3878], device='cuda:0', grad_fn=<MulBackward0>) Cong\n",
      "tensor([0.4848], device='cuda:0', grad_fn=<MulBackward0>) Cong\n",
      "tensor([0.8261], device='cuda:0', grad_fn=<MulBackward0>) Cong\n",
      "tensor([0.9624], device='cuda:0', grad_fn=<MulBackward0>) Cong\n",
      "tensor([1.3085], device='cuda:0', grad_fn=<MulBackward0>) Cong\n",
      "tensor([1.4864], device='cuda:0', grad_fn=<MulBackward0>) Cong\n",
      "tensor([1.3630], device='cuda:0', grad_fn=<MulBackward0>) Cong\n",
      "tensor([0.0191], device='cuda:0', grad_fn=<MulBackward0>) Cong\n",
      "tensor([0.9167], device='cuda:0', grad_fn=<MulBackward0>) Cong\n",
      "tensor([1.9016], device='cuda:0', grad_fn=<MulBackward0>) Cong\n",
      "tensor([1.7407], device='cuda:0', grad_fn=<MulBackward0>) Cong\n",
      "tensor([1.4012], device='cuda:0', grad_fn=<MulBackward0>) Cong\n",
      "tensor([2.8942], device='cuda:0', grad_fn=<MulBackward0>) Cong\n",
      "tensor([1.7458], device='cuda:0', grad_fn=<MulBackward0>) Cong\n",
      "tensor([4.8009], device='cuda:0', grad_fn=<MulBackward0>) Cong\n",
      "tensor([5.7322], device='cuda:0', grad_fn=<MulBackward0>) Cong\n",
      "tensor([5.7398], device='cuda:0', grad_fn=<MulBackward0>) Cong\n",
      "tensor([0.1059], device='cuda:0', grad_fn=<MulBackward0>) Cong\n",
      "tensor([1.2063], device='cuda:0', grad_fn=<MulBackward0>) Cong\n",
      "tensor([3.7828], device='cuda:0', grad_fn=<MulBackward0>) Cong\n",
      "tensor([3.1451], device='cuda:0', grad_fn=<MulBackward0>) Cong\n",
      "tensor([1.6999], device='cuda:0', grad_fn=<MulBackward0>) Cong\n",
      "tensor([0.2721], device='cuda:0', grad_fn=<MulBackward0>) Cong\n",
      "tensor([1.5016], device='cuda:0', grad_fn=<MulBackward0>) Cong\n",
      "tensor([0.8023], device='cuda:0', grad_fn=<MulBackward0>) Cong\n",
      "tensor([0.4107], device='cuda:0', grad_fn=<MulBackward0>) Cong\n",
      "tensor([2.4527], device='cuda:0', grad_fn=<MulBackward0>) Cong\n",
      "tensor([0.2862], device='cuda:0', grad_fn=<MulBackward0>) Cong\n",
      "tensor([6.5255], device='cuda:0', grad_fn=<MulBackward0>) Cong\n",
      "tensor([11.2029], device='cuda:0', grad_fn=<MulBackward0>) Cong\n",
      "tensor([7.7245], device='cuda:0', grad_fn=<MulBackward0>) Cong\n",
      "tensor([6.8669], device='cuda:0', grad_fn=<MulBackward0>) Cong\n",
      "tensor([0.3455], device='cuda:0', grad_fn=<MulBackward0>) Cong\n",
      "tensor([0.0055], device='cuda:0', grad_fn=<MulBackward0>) Cong\n",
      "tensor([0.8106], device='cuda:0', grad_fn=<MulBackward0>) Cong\n",
      "tensor([1.4314], device='cuda:0', grad_fn=<MulBackward0>) Cong\n",
      "tensor([3.5503], device='cuda:0', grad_fn=<MulBackward0>) Cong\n",
      "tensor([0.0348], device='cuda:0', grad_fn=<MulBackward0>) Cong\n",
      "tensor([3.9876], device='cuda:0', grad_fn=<MulBackward0>) Cong\n",
      "tensor([5.1950], device='cuda:0', grad_fn=<MulBackward0>) Cong\n",
      "tensor([5.6858], device='cuda:0', grad_fn=<MulBackward0>) Cong\n",
      "tensor([1.3270], device='cuda:0', grad_fn=<MulBackward0>) Cong\n",
      "tensor([5.7702], device='cuda:0', grad_fn=<MulBackward0>) Cong\n",
      "tensor([4.6043], device='cuda:0', grad_fn=<MulBackward0>) Cong\n",
      "tensor([2.9342], device='cuda:0', grad_fn=<MulBackward0>) Cong\n",
      "tensor([1.8652], device='cuda:0', grad_fn=<MulBackward0>) Cong\n",
      "tensor([1.5733], device='cuda:0', grad_fn=<MulBackward0>) Cong\n",
      "tensor([2.0720], device='cuda:0', grad_fn=<MulBackward0>) Cong\n",
      "tensor([1.2789], device='cuda:0', grad_fn=<MulBackward0>) Cong\n",
      "tensor([0.9128], device='cuda:0', grad_fn=<MulBackward0>) Cong\n",
      "tensor([2.0209], device='cuda:0', grad_fn=<MulBackward0>) Cong\n",
      "tensor([0.2532], device='cuda:0', grad_fn=<MulBackward0>) Cong\n",
      "tensor([0.2033], device='cuda:0', grad_fn=<MulBackward0>) Cong\n",
      "tensor([10.7990], device='cuda:0', grad_fn=<MulBackward0>) Cong\n",
      "tensor([0.3489], device='cuda:0', grad_fn=<MulBackward0>) Cong\n",
      "tensor([0.4600], device='cuda:0', grad_fn=<MulBackward0>) Cong\n",
      "tensor([0.6541], device='cuda:0', grad_fn=<MulBackward0>) Cong\n",
      "tensor([0.2651], device='cuda:0', grad_fn=<MulBackward0>) Cong\n",
      "tensor([0.8477], device='cuda:0', grad_fn=<MulBackward0>) Cong\n"
     ]
    }
   ],
   "source": [
    "while video_cap.isOpened():\n",
    "    isSuccess, frame = video_cap.read()\n",
    "    imgRGB= cv2.cvtColor(frame, cv2.COLOR_BGR2RGB)\n",
    "    results = pose.process(imgRGB)\n",
    "    cvzone.putTextRect(frame,'Trang thai', (2,40), colorR=(14,201,255))\n",
    "    #text_status = 'Dang Tim'\n",
    "    if results.pose_landmarks:\n",
    "        mpDraw.draw_landmarks(frame,results.pose_landmarks,mpPose.POSE_CONNECTIONS )\n",
    "        for index ,dot in enumerate(results.pose_landmarks.landmark):\n",
    "            if(index == 11):\n",
    "                hight ,weight,c=frame.shape\n",
    "                center_x1, center_y1 =int(dot.x*weight),int(dot.y*hight)\n",
    "                cv2.circle(frame,(center_x1,center_y1),5,(0,0,255),cv2.FILLED)\n",
    "\n",
    "            if(index == 12):\n",
    "                hight ,weight,c=frame.shape\n",
    "                center_x2, center_y2 =int(dot.x*weight),int(dot.y*hight)\n",
    "                cv2.circle(frame,(center_x2,center_y2),5,(0,0,255),cv2.FILLED)\n",
    "        distance = int(math.sqrt((center_y2 - center_y1) ** 2 + (center_x2 - center_x1) ** 2))\n",
    "        distanceCM = A * distance ** 2 + B * distance + C\n",
    "        cvzone.putTextRect(frame, f'Khoang cach:{int(distanceCM)} ', (1,95), colorR=(14,201,255))\n",
    "        # nhan dien khach hang\n",
    "        boxes, _ = mtcnn.detect(frame)\n",
    "        if boxes is not None:\n",
    "            for box in boxes:\n",
    "                bbox = list(map(int,box.tolist()))\n",
    "                face = extract_face(bbox, frame)\n",
    "                idx, score = inference(model, face, embeddings)\n",
    "                if idx != -1:\n",
    "                    frame = cv2.rectangle(frame, (bbox[0],bbox[1]), (bbox[2],bbox[3]), (255,201,14), 4)\n",
    "                    score = torch.Tensor.cpu(score[0]).detach().numpy()*power\n",
    "                    cvzone.putTextRect(frame, names[idx] + '_{:.2f}'.format(score), (bbox[0],bbox[1]), colorR=(255,201,14))\n",
    "                    cvzone.putTextRect(frame, 'Da tim thay' , (290,40), colorR=(0,255,0))\n",
    "                    cvzone.putTextRect(frame, 'Dung' , (1,480), colorR=(14,201,255))\n",
    "                else:\n",
    "                    frame = cv2.rectangle(frame, (bbox[0],bbox[1]), (bbox[2],bbox[3]), (255,201,14), 4)\n",
    "                    cvzone.putTextRect(frame, 'Unknown', (bbox[0],bbox[1]), colorR=(255,201,14))\n",
    "                    cvzone.putTextRect(frame, 'Nham nguoi' , (290,40), colorR=(0,0,255))\n",
    "                    cvzone.putTextRect(frame, 'Lui' , (1,480), colorR=(14,201,255))\n",
    "        else:\n",
    "            cvzone.putTextRect(frame, 'Nhan dang' , (290,40), colorR=(0,0,255))\n",
    "            cvzone.putTextRect(frame, 'Tien' , (1,480), colorR=(14,201,255))\n",
    "    else:\n",
    "        cvzone.putTextRect(frame, 'Dang tim' , (290,40), colorR=(0,0,255))\n",
    "\n",
    "\n",
    "\n",
    "    cv2.imshow('Face Recognition', frame)\n",
    "    if cv2.waitKey(1)&0xFF == 27:\n",
    "        break"
   ],
   "metadata": {
    "collapsed": false,
    "pycharm": {
     "name": "#%%\n"
    }
   }
  },
  {
   "cell_type": "code",
   "execution_count": 17,
   "outputs": [],
   "source": [
    "video_cap.release()\n",
    "cv2.destroyAllWindows()"
   ],
   "metadata": {
    "collapsed": false,
    "pycharm": {
     "name": "#%%\n"
    }
   }
  }
 ],
 "metadata": {
  "kernelspec": {
   "display_name": "Python 3",
   "language": "python",
   "name": "python3"
  },
  "language_info": {
   "codemirror_mode": {
    "name": "ipython",
    "version": 2
   },
   "file_extension": ".py",
   "mimetype": "text/x-python",
   "name": "python",
   "nbconvert_exporter": "python",
   "pygments_lexer": "ipython2",
   "version": "2.7.6"
  }
 },
 "nbformat": 4,
 "nbformat_minor": 0
}