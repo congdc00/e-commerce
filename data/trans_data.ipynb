{
 "cells": [
  {
   "cell_type": "markdown",
   "source": [
    "# I.Thêm thư viện"
   ],
   "metadata": {
    "collapsed": false
   }
  },
  {
   "cell_type": "code",
   "execution_count": null,
   "outputs": [],
   "source": [
    "from all_lib import *"
   ],
   "metadata": {
    "collapsed": false,
    "pycharm": {
     "name": "#%%\n"
    }
   }
  },
  {
   "cell_type": "markdown",
   "source": [
    "# II. Resize kích cỡ 160*160"
   ],
   "metadata": {
    "collapsed": false
   }
  },
  {
   "cell_type": "code",
   "execution_count": 19,
   "outputs": [],
   "source": [
    "download = './download_data/VN-celeb'"
   ],
   "metadata": {
    "collapsed": false,
    "pycharm": {
     "name": "#%%\n"
    }
   }
  },
  {
   "cell_type": "code",
   "execution_count": 16,
   "outputs": [],
   "source": [
    "for usr in os.listdir(download): # duyệt qua tất cả các file trong image_train\n",
    "    for file in glob.glob(os.path.join(download, usr) + '/*.png'): # mở tất cả các file ảnh\n",
    "        img = Image.open(file)\n",
    "        newsize = (160,160)\n",
    "        img = img.resize(newsize)\n",
    "        img.save(file)"
   ],
   "metadata": {
    "collapsed": false,
    "pycharm": {
     "name": "#%%\n"
    }
   }
  },
  {
   "cell_type": "markdown",
   "source": [
    "# III. Chia dữ liệu để huấn luyện"
   ],
   "metadata": {
    "collapsed": false
   }
  },
  {
   "cell_type": "code",
   "execution_count": 21,
   "metadata": {
    "collapsed": true,
    "pycharm": {
     "name": "#%%\n"
    }
   },
   "outputs": [
    {
     "name": "stderr",
     "output_type": "stream",
     "text": [
      "\n",
      "\n",
      "\n",
      "Copying files: 0 files [01:22, ? files/s]\u001B[A\u001B[A\u001B[A\n",
      "\n",
      "\n",
      "\n",
      "Copying files: 51 files [00:00, 464.69 files/s]\u001B[A\u001B[A\u001B[A\n",
      "\n",
      "\n",
      "Copying files: 122 files [00:00, 571.76 files/s]\u001B[A\u001B[A\u001B[A\n",
      "\n",
      "\n",
      "Copying files: 185 files [00:00, 595.08 files/s]\u001B[A\u001B[A\u001B[A\n",
      "\n",
      "\n",
      "Copying files: 268 files [00:00, 660.12 files/s]\u001B[A\u001B[A\u001B[A\n",
      "\n",
      "\n",
      "Copying files: 352 files [00:00, 698.62 files/s]\u001B[A\u001B[A\u001B[A\n",
      "\n",
      "\n",
      "Copying files: 433 files [00:00, 712.14 files/s]\u001B[A\u001B[A\u001B[A\n",
      "\n",
      "\n",
      "Copying files: 516 files [00:00, 726.64 files/s]\u001B[A\u001B[A\u001B[A\n",
      "\n",
      "\n",
      "Copying files: 600 files [00:00, 739.01 files/s]\u001B[A\u001B[A\u001B[A\n",
      "\n",
      "\n",
      "Copying files: 687 files [00:00, 754.98 files/s]\u001B[A\u001B[A\u001B[A\n",
      "\n",
      "\n",
      "Copying files: 775 files [00:01, 769.45 files/s]\u001B[A\u001B[A\u001B[A\n",
      "\n",
      "\n",
      "Copying files: 858 files [00:01, 765.39 files/s]\u001B[A\u001B[A\u001B[A\n",
      "\n",
      "\n",
      "Copying files: 942 files [00:01, 765.39 files/s]\u001B[A\u001B[A\u001B[A\n",
      "\n",
      "\n",
      "Copying files: 1025 files [00:01, 762.63 files/s]\u001B[A\u001B[A\u001B[A\n",
      "\n",
      "\n",
      "Copying files: 1109 files [00:01, 763.46 files/s]\u001B[A\u001B[A\u001B[A\n",
      "\n",
      "\n",
      "Copying files: 1196 files [00:01, 772.27 files/s]\u001B[A\u001B[A\u001B[A\n",
      "\n",
      "\n",
      "Copying files: 1282 files [00:01, 775.67 files/s]\u001B[A\u001B[A\u001B[A\n",
      "\n",
      "\n",
      "Copying files: 1362 files [00:01, 761.60 files/s]\u001B[A\u001B[A\u001B[A\n",
      "\n",
      "\n",
      "Copying files: 1449 files [00:01, 770.93 files/s]\u001B[A\u001B[A\u001B[A\n",
      "\n",
      "\n",
      "Copying files: 1536 files [00:02, 777.47 files/s]\u001B[A\u001B[A\u001B[A\n",
      "\n",
      "\n",
      "Copying files: 1618 files [00:02, 781.38 files/s]\u001B[A\u001B[A\u001B[A\n",
      "\n",
      "\n",
      "Copying files: 1697 files [00:02, 783.53 files/s]\u001B[A\u001B[A\u001B[A\n",
      "\n",
      "\n",
      "Copying files: 1776 files [00:02, 784.84 files/s]\u001B[A\u001B[A\u001B[A\n",
      "\n",
      "\n",
      "Copying files: 1855 files [00:02, 765.89 files/s]\u001B[A\u001B[A\u001B[A\n",
      "\n",
      "\n",
      "Copying files: 1932 files [00:02, 746.04 files/s]\u001B[A\u001B[A\u001B[A\n",
      "\n",
      "\n",
      "Copying files: 2012 files [00:02, 740.79 files/s]\u001B[A\u001B[A\u001B[A\n",
      "\n",
      "\n",
      "Copying files: 2095 files [00:02, 745.46 files/s]\u001B[A\u001B[A\u001B[A\n",
      "\n",
      "\n",
      "Copying files: 2182 files [00:02, 760.83 files/s]\u001B[A\u001B[A\u001B[A\n",
      "\n",
      "\n",
      "Copying files: 2268 files [00:03, 767.70 files/s]\u001B[A\u001B[A\u001B[A\n",
      "\n",
      "\n",
      "Copying files: 2352 files [00:03, 766.99 files/s]\u001B[A\u001B[A\u001B[A\n",
      "\n",
      "\n",
      "Copying files: 2437 files [00:03, 769.23 files/s]\u001B[A\u001B[A\u001B[A\n",
      "\n",
      "\n",
      "Copying files: 2520 files [00:03, 765.32 files/s]\u001B[A\u001B[A\u001B[A\n",
      "\n",
      "\n",
      "Copying files: 2597 files [00:03, 735.06 files/s]\u001B[A\u001B[A\u001B[A\n",
      "\n",
      "\n",
      "Copying files: 2671 files [00:03, 727.01 files/s]\u001B[A\u001B[A\u001B[A\n",
      "\n",
      "\n",
      "Copying files: 2744 files [00:03, 652.48 files/s]\u001B[A\u001B[A\u001B[A\n",
      "\n",
      "\n",
      "Copying files: 2811 files [00:03, 592.69 files/s]\u001B[A\u001B[A\u001B[A\n",
      "\n",
      "\n",
      "Copying files: 2882 files [00:03, 607.47 files/s]\u001B[A\u001B[A\u001B[A\n",
      "\n",
      "\n",
      "Copying files: 2961 files [00:04, 647.42 files/s]\u001B[A\u001B[A\u001B[A\n",
      "\n",
      "\n",
      "Copying files: 3033 files [00:04, 666.54 files/s]\u001B[A\u001B[A\u001B[A\n",
      "\n",
      "\n",
      "Copying files: 3101 files [00:04, 670.04 files/s]\u001B[A\u001B[A\u001B[A\n",
      "\n",
      "\n",
      "Copying files: 3171 files [00:04, 678.30 files/s]\u001B[A\u001B[A\u001B[A\n",
      "\n",
      "\n",
      "Copying files: 3247 files [00:04, 701.37 files/s]\u001B[A\u001B[A\u001B[A\n",
      "\n",
      "\n",
      "Copying files: 3318 files [00:04, 703.62 files/s]\u001B[A\u001B[A\u001B[A\n",
      "\n",
      "\n",
      "Copying files: 3389 files [00:04, 705.22 files/s]\u001B[A\u001B[A\u001B[A\n",
      "\n",
      "\n",
      "Copying files: 3460 files [00:04, 706.12 files/s]\u001B[A\u001B[A\u001B[A\n",
      "\n",
      "\n",
      "Copying files: 3531 files [00:04, 706.95 files/s]\u001B[A\u001B[A\u001B[A\n",
      "\n",
      "\n",
      "Copying files: 3602 files [00:05, 651.78 files/s]\u001B[A\u001B[A\u001B[A\n",
      "\n",
      "\n",
      "Copying files: 3669 files [00:05, 639.35 files/s]\u001B[A\u001B[A\u001B[A\n",
      "\n",
      "\n",
      "Copying files: 3734 files [00:05, 341.68 files/s]\u001B[A\u001B[A\u001B[A\n",
      "\n",
      "\n",
      "Copying files: 3784 files [00:05, 235.47 files/s]\u001B[A\u001B[A\u001B[A\n",
      "\n",
      "\n",
      "Copying files: 3823 files [00:06, 228.90 files/s]\u001B[A\u001B[A\u001B[A\n",
      "\n",
      "\n",
      "Copying files: 3857 files [00:06, 200.21 files/s]\u001B[A\u001B[A\u001B[A\n",
      "\n",
      "\n",
      "Copying files: 3885 files [00:06, 183.70 files/s]\u001B[A\u001B[A\u001B[A\n",
      "\n",
      "\n",
      "Copying files: 3909 files [00:06, 180.91 files/s]\u001B[A\u001B[A\u001B[A\n",
      "\n",
      "\n",
      "Copying files: 3948 files [00:06, 213.36 files/s]\u001B[A\u001B[A\u001B[A\n",
      "\n",
      "\n",
      "Copying files: 4032 files [00:06, 329.30 files/s]\u001B[A\u001B[A\u001B[A\n",
      "\n",
      "\n",
      "Copying files: 4112 files [00:07, 421.53 files/s]\u001B[A\u001B[A\u001B[A\n",
      "\n",
      "\n",
      "Copying files: 4191 files [00:07, 496.07 files/s]\u001B[A\u001B[A\u001B[A\n",
      "\n",
      "\n",
      "Copying files: 4266 files [00:07, 549.17 files/s]\u001B[A\u001B[A\u001B[A\n",
      "\n",
      "\n",
      "Copying files: 4398 files [00:07, 589.88 files/s]\u001B[A\u001B[A\u001B[A\n"
     ]
    }
   ],
   "source": [
    "output = \"./data_set\" #where you want the split datasets saved. one will be created if none is set\n",
    "splitfolders.ratio('./download_data/VN-celeb', output=\"./data_set\", seed=42, ratio=(.8, .1, .1)) #ratio of split are in order of train/val/test. You can change to whatever you want. For train/val sets only, you could do .75, .25 for example."
   ]
  }
 ],
 "metadata": {
  "kernelspec": {
   "display_name": "Python 3",
   "language": "python",
   "name": "python3"
  },
  "language_info": {
   "codemirror_mode": {
    "name": "ipython",
    "version": 2
   },
   "file_extension": ".py",
   "mimetype": "text/x-python",
   "name": "python",
   "nbconvert_exporter": "python",
   "pygments_lexer": "ipython2",
   "version": "2.7.6"
  }
 },
 "nbformat": 4,
 "nbformat_minor": 0
}