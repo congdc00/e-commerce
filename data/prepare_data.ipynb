{
 "cells": [
  {
   "cell_type": "markdown",
   "source": [
    "# I. Thêm thư viện"
   ],
   "metadata": {
    "collapsed": false
   }
  },
  {
   "cell_type": "code",
   "execution_count": 1,
   "metadata": {
    "collapsed": true
   },
   "outputs": [],
   "source": [
    "from all_lib import *"
   ]
  },
  {
   "cell_type": "markdown",
   "source": [
    "# II. Prepare data"
   ],
   "metadata": {
    "collapsed": false
   }
  },
  {
   "cell_type": "markdown",
   "source": [
    "Nơi chứa data"
   ],
   "metadata": {
    "collapsed": false
   }
  },
  {
   "cell_type": "code",
   "execution_count": 2,
   "outputs": [],
   "source": [
    "data_path = './download_data'"
   ],
   "metadata": {
    "collapsed": false,
    "pycharm": {
     "name": "#%%\n"
    }
   }
  },
  {
   "cell_type": "markdown",
   "source": [
    "Link tải dữ liệu"
   ],
   "metadata": {
    "collapsed": false
   }
  },
  {
   "cell_type": "code",
   "execution_count": 3,
   "outputs": [],
   "source": [
    "url = \"https://doc-04-34-docs.googleusercontent.com/docs/securesc/10i09tlgj6mbkd49799606ltqhjvopk2/v5ca90m6a7jj3v3l7k8uhv20h2n2hsvs/1639320675000/12744591793634504552/02165843938034795460/1NQrvRhfzBz2P1uOnMFtzym0KknhmFNl6?e=download&authuser=0&nonce=gm80qn906ipim&user=02165843938034795460&hash=q2lr3cffqe7s65im58ovohhpn906jllo\"\n",
    "# Tên lưu dưới máy của mình\n",
    "zip_path = './download_data/VN-celeb.zip'"
   ],
   "metadata": {
    "collapsed": false,
    "pycharm": {
     "name": "#%%\n"
    }
   }
  },
  {
   "cell_type": "markdown",
   "source": [
    "tải dữ liệu về"
   ],
   "metadata": {
    "collapsed": false
   }
  },
  {
   "cell_type": "code",
   "execution_count": 4,
   "outputs": [],
   "source": [
    "# Xác định xem tồn tại tar_path này chưa\n",
    "if not os.path.exists(zip_path):\n",
    "    # download file\n",
    "    urllib.request.urlretrieve(url, zip_path)\n",
    "    # mở file\n",
    "    zip_file = zipfile.ZipFile(zip_path)\n",
    "    # giải nén nó ra\n",
    "    zip_file.extractall(data_path)\n",
    "    # đóng file\n",
    "    zip_file.close()"
   ],
   "metadata": {
    "collapsed": false,
    "pycharm": {
     "name": "#%%\n"
    }
   }
  }
 ],
 "metadata": {
  "kernelspec": {
   "display_name": "Python 3",
   "language": "python",
   "name": "python3"
  },
  "language_info": {
   "codemirror_mode": {
    "name": "ipython",
    "version": 2
   },
   "file_extension": ".py",
   "mimetype": "text/x-python",
   "name": "python",
   "nbconvert_exporter": "python",
   "pygments_lexer": "ipython2",
   "version": "2.7.6"
  }
 },
 "nbformat": 4,
 "nbformat_minor": 0
}