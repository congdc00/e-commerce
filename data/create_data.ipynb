{
 "cells": [
  {
   "cell_type": "markdown",
   "source": [
    "# I. Cài đặt thư viện"
   ],
   "metadata": {
    "collapsed": false
   }
  },
  {
   "cell_type": "code",
   "execution_count": 1,
   "metadata": {
    "collapsed": true
   },
   "outputs": [],
   "source": [
    "import torch\n",
    "from facenet_pytorch import MTCNN\n",
    "import cv2\n",
    "from datetime import datetime\n",
    "import os"
   ]
  },
  {
   "cell_type": "markdown",
   "source": [
    "Để kiểm tra xem có gpu không, nếu có thì sau này tensor sẽ đưa lên đây tính toán cho nhanh"
   ],
   "metadata": {
    "collapsed": false
   }
  },
  {
   "cell_type": "code",
   "execution_count": 2,
   "outputs": [
    {
     "name": "stdout",
     "output_type": "stream",
     "text": [
      "cuda:0\n"
     ]
    }
   ],
   "source": [
    "device = torch.device('cuda:0' if torch.cuda.is_available() else 'cpu')\n",
    "print(device)"
   ],
   "metadata": {
    "collapsed": false,
    "pycharm": {
     "name": "#%%\n"
    }
   }
  },
  {
   "cell_type": "markdown",
   "source": [
    "Kiểm tra xem đang dùng gpu loại gì"
   ],
   "metadata": {
    "collapsed": false
   }
  },
  {
   "cell_type": "code",
   "execution_count": 3,
   "outputs": [
    {
     "data": {
      "text/plain": "'GeForce GTX 1650'"
     },
     "execution_count": 3,
     "metadata": {},
     "output_type": "execute_result"
    }
   ],
   "source": [
    "torch.cuda.get_device_name(0)"
   ],
   "metadata": {
    "collapsed": false,
    "pycharm": {
     "name": "#%%\n"
    }
   }
  },
  {
   "cell_type": "markdown",
   "source": [
    "# II.MTCNN"
   ],
   "metadata": {
    "collapsed": false
   }
  },
  {
   "cell_type": "markdown",
   "source": [
    "Gọi 1 object từ class MTCNN với các thông số sau\n",
    "thresholds: Mức ngưỡng, những bounding box có tỷ lệ chính xác thấp hơn mức này sẽ bị xóa\n",
    "keep_all: Xác định có detect và trả về toàn bộ ảnh trong bức hình không\n",
    "margin: Kích thước của khối box\n",
    "post_process: Có chuẩn hóa hay không\n"
   ],
   "metadata": {
    "collapsed": false
   }
  },
  {
   "cell_type": "code",
   "execution_count": 4,
   "outputs": [],
   "source": [
    "mtcnn = MTCNN(margin=20, keep_all = True, post_process=False, device= device)"
   ],
   "metadata": {
    "collapsed": false,
    "pycharm": {
     "name": "#%%\n"
    }
   }
  },
  {
   "cell_type": "code",
   "execution_count": 5,
   "outputs": [],
   "source": [
    "count = 50 # Đếm số lượng ảnh\n",
    "leap = 1  # bước nhảy: lấy 1 ảnh sau mỗi leap frame"
   ],
   "metadata": {
    "collapsed": false,
    "pycharm": {
     "name": "#%%\n"
    }
   }
  },
  {
   "cell_type": "markdown",
   "source": [
    "# III. Load từ webcam\n",
    "Cài đặt nguồn cấp dữ liệu là webcam với khung hình là 640x480"
   ],
   "metadata": {
    "collapsed": false
   }
  },
  {
   "cell_type": "code",
   "execution_count": 6,
   "outputs": [
    {
     "data": {
      "text/plain": "True"
     },
     "execution_count": 6,
     "metadata": {},
     "output_type": "execute_result"
    }
   ],
   "source": [
    "video_cap = cv2.VideoCapture(0)\n",
    "video_cap.set(cv2.CAP_PROP_FRAME_WIDTH, 640)\n",
    "video_cap.set(cv2.CAP_PROP_FRAME_HEIGHT,480)"
   ],
   "metadata": {
    "collapsed": false,
    "pycharm": {
     "name": "#%%\n"
    }
   }
  },
  {
   "cell_type": "markdown",
   "source": [
    "Vị trí lưu ảnh sau khi lấy"
   ],
   "metadata": {
    "collapsed": false
   }
  },
  {
   "cell_type": "code",
   "execution_count": 7,
   "outputs": [
    {
     "name": "stdout",
     "output_type": "stream",
     "text": [
      "./images_train\\\n"
     ]
    }
   ],
   "source": [
    "img_path = './new_face'\n",
    "label_face = input('Tên của bạn là gì: ')\n",
    "face_path = os.path.join(img_path, label_face)\n",
    "print(face_path)"
   ],
   "metadata": {
    "collapsed": false,
    "pycharm": {
     "name": "#%%\n"
    }
   }
  },
  {
   "cell_type": "markdown",
   "source": [
    "Khoanh box cho từng frame"
   ],
   "metadata": {
    "collapsed": false
   }
  },
  {
   "cell_type": "code",
   "execution_count": 8,
   "outputs": [],
   "source": [
    "while video_cap.isOpened() and count:\n",
    "    isSuccess, frame = video_cap.read()\n",
    "    # xác định lại xem có đúng thu được 1 frame từ camera không\n",
    "    if mtcnn(frame) is not None and leap%2 : # nếu có box nào đó tồn tại\n",
    "        # Đặt tên theo định dạng 2021-07-03-22-39-2216.jpg\n",
    "        path = str(face_path + '/{}.jpg'.format(str(datetime.now())[:-7].replace(\":\",\"-\").replace(\" \",\"-\") + str(count)))\n",
    "        # Nhận diện và lưu ảnh\n",
    "        face_img = mtcnn(frame,save_path = path)\n",
    "        count -= 1\n",
    "    leap +=1\n",
    "    cv2.imshow('Face_detection', frame)\n",
    "    # Đặt nút tắt\n",
    "    if cv2.waitKey(1)&0xFF == ord('q'):\n",
    "        break\n",
    "video_cap.release()\n",
    "cv2.destroyAllWindows()"
   ],
   "metadata": {
    "collapsed": false,
    "pycharm": {
     "name": "#%%\n"
    }
   }
  }
 ],
 "metadata": {
  "kernelspec": {
   "display_name": "Python 3",
   "language": "python",
   "name": "python3"
  },
  "language_info": {
   "codemirror_mode": {
    "name": "ipython",
    "version": 2
   },
   "file_extension": ".py",
   "mimetype": "text/x-python",
   "name": "python",
   "nbconvert_exporter": "python",
   "pygments_lexer": "ipython2",
   "version": "2.7.6"
  }
 },
 "nbformat": 4,
 "nbformat_minor": 0
}